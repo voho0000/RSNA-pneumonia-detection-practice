{
 "cells": [
  {
   "cell_type": "code",
   "execution_count": null,
   "metadata": {},
   "outputs": [],
   "source": [
    "'''\n",
    "%pip install -q \"monai[pillow, tqdm]\"\n",
    "\n",
    "# FIXME: install MONAI from source code, will remove it when v0.4.0 released\n",
    "%pip install git+https://github.com/Project-MONAI/MONAI#egg=MONAI\n",
    "'''"
   ]
  },
  {
   "cell_type": "code",
   "execution_count": 1,
   "metadata": {
    "ExecuteTime": {
     "end_time": "2020-12-26T17:28:03.744061Z",
     "start_time": "2020-12-26T17:28:02.470359Z"
    }
   },
   "outputs": [
    {
     "name": "stdout",
     "output_type": "stream",
     "text": [
      "MONAI version: 0.3.0\n",
      "Python version: 3.7.4 (default, Aug 13 2019, 20:35:49)  [GCC 7.3.0]\n",
      "OS version: Linux (5.3.0-28-generic)\n",
      "Numpy version: 1.17.2+intel.0\n",
      "Pytorch version: 1.6.0\n",
      "MONAI flags: HAS_EXT = False, USE_COMPILED = False\n",
      "\n",
      "Optional dependencies:\n",
      "Pytorch Ignite version: 0.3.0\n",
      "Nibabel version: 3.0.1\n",
      "scikit-image version: 0.15.0\n",
      "Pillow version: 6.2.0\n",
      "Tensorboard version: 1.14.0\n",
      "gdown version: NOT INSTALLED or UNKNOWN VERSION.\n",
      "TorchVision version: 0.7.0\n",
      "ITK version: 5.1.2\n",
      "tqdm version: 4.54.1\n",
      "\n",
      "For details about installing the optional dependencies, please visit:\n",
      "    https://docs.monai.io/en/latest/installation.html#installing-the-recommended-dependencies\n",
      "\n"
     ]
    }
   ],
   "source": [
    "import logging\n",
    "import os\n",
    "import shutil\n",
    "import sys\n",
    "import tempfile\n",
    "import random\n",
    "import numpy as np\n",
    "from tqdm import trange\n",
    "import matplotlib.pyplot as plt\n",
    "import torch\n",
    "from skimage.util import random_noise\n",
    "\n",
    "from monai.apps import download_and_extract\n",
    "from monai.config import print_config\n",
    "from monai.data import CacheDataset, DataLoader\n",
    "#from monai.networks.nets import AutoEncoder\n",
    "from autoencoder import AutoEncoder\n",
    "from monai.transforms import (\n",
    "    AddChannelD,\n",
    "    Compose,\n",
    "    LoadImageD,\n",
    "    RandFlipD,\n",
    "    RandRotateD,\n",
    "    RandZoomD,\n",
    "    ScaleIntensityD,\n",
    "    ToTensorD,\n",
    "    Lambda,\n",
    ")\n",
    "from monai.utils import set_determinism\n",
    "\n",
    "print_config()"
   ]
  },
  {
   "cell_type": "code",
   "execution_count": 2,
   "metadata": {
    "ExecuteTime": {
     "end_time": "2020-12-26T17:28:05.150184Z",
     "start_time": "2020-12-26T17:28:05.139636Z"
    }
   },
   "outputs": [],
   "source": [
    "logging.basicConfig(stream=sys.stdout, level=logging.INFO)\n",
    "set_determinism(0)\n",
    "device = torch.device(\"cuda\" if torch.cuda.is_available() else \"cpu\")"
   ]
  },
  {
   "cell_type": "code",
   "execution_count": 3,
   "metadata": {
    "ExecuteTime": {
     "end_time": "2020-12-26T17:28:05.766153Z",
     "start_time": "2020-12-26T17:28:05.759768Z"
    }
   },
   "outputs": [],
   "source": [
    "# Create small visualistaion function\n",
    "def plot_ims(ims, shape=None, figsize=(10,10), titles=None):\n",
    "    shape = (1,len(ims)) if shape is None else shape\n",
    "    plt.subplots(*shape, figsize=figsize)\n",
    "    for i,im in enumerate(ims):\n",
    "        plt.subplot(*shape,i+1)\n",
    "        im = plt.imread(im) if isinstance(im, str) else torch.squeeze(im)\n",
    "        plt.imshow(im, cmap='gray')\n",
    "        if titles is not None:\n",
    "            plt.title(titles[i])\n",
    "        plt.axis('off')\n",
    "    plt.tight_layout()\n",
    "    plt.show()"
   ]
  },
  {
   "cell_type": "code",
   "execution_count": 4,
   "metadata": {
    "ExecuteTime": {
     "end_time": "2020-12-26T17:28:06.584637Z",
     "start_time": "2020-12-26T17:28:06.579766Z"
    }
   },
   "outputs": [
    {
     "name": "stdout",
     "output_type": "stream",
     "text": [
      "/tmp/tmponipn_7g\n"
     ]
    }
   ],
   "source": [
    "directory = os.environ.get(\"MONAI_DATA_DIRECTORY\")\n",
    "root_dir = tempfile.mkdtemp() if directory is None else directory\n",
    "print(root_dir)"
   ]
  },
  {
   "cell_type": "code",
   "execution_count": 5,
   "metadata": {
    "ExecuteTime": {
     "end_time": "2020-12-26T17:28:20.519254Z",
     "start_time": "2020-12-26T17:28:07.815196Z"
    }
   },
   "outputs": [
    {
     "name": "stderr",
     "output_type": "stream",
     "text": [
      "MedNIST.tar.gz: 59.0MB [00:08, 7.64MB/s]                              \n"
     ]
    },
    {
     "name": "stdout",
     "output_type": "stream",
     "text": [
      "\n",
      "downloaded file: /tmp/tmponipn_7g/MedNIST.tar.gz.\n",
      "Verified 'MedNIST.tar.gz', md5: 0bc7306e7427e00ad1c5526a6677552d.\n",
      "Verified 'MedNIST.tar.gz', md5: 0bc7306e7427e00ad1c5526a6677552d.\n"
     ]
    }
   ],
   "source": [
    "resource = \"https://www.dropbox.com/s/5wwskxctvcxiuea/MedNIST.tar.gz?dl=1\"\n",
    "md5 = \"0bc7306e7427e00ad1c5526a6677552d\"\n",
    "\n",
    "compressed_file = os.path.join(root_dir, \"MedNIST.tar.gz\")\n",
    "data_dir = os.path.join(root_dir, \"MedNIST\")\n",
    "if not os.path.exists(data_dir):\n",
    "    download_and_extract(resource, compressed_file, root_dir, md5)"
   ]
  },
  {
   "cell_type": "code",
   "execution_count": 6,
   "metadata": {
    "ExecuteTime": {
     "end_time": "2020-12-26T17:28:20.523442Z",
     "start_time": "2020-12-26T17:28:20.520197Z"
    }
   },
   "outputs": [
    {
     "data": {
      "text/plain": [
       "['ChestCT', 'BreastMRI', 'AbdomenCT', 'HeadCT', 'README.md', 'CXR', 'Hand']"
      ]
     },
     "execution_count": 6,
     "metadata": {},
     "output_type": "execute_result"
    }
   ],
   "source": [
    "os.listdir(data_dir)"
   ]
  },
  {
   "cell_type": "code",
   "execution_count": 7,
   "metadata": {
    "ExecuteTime": {
     "end_time": "2020-12-26T17:28:20.828300Z",
     "start_time": "2020-12-26T17:28:20.524537Z"
    }
   },
   "outputs": [
    {
     "data": {
      "image/png": "[encoded data removed]",
      "text/plain": [
       "<Figure size 720x720 with 8 Axes>"
      ]
     },
     "metadata": {
      "needs_background": "light"
     },
     "output_type": "display_data"
    }
   ],
   "source": [
    "scan_type = \"CXR\" # could be  AbdomenCT  BreastMRI  CXR  ChestCT  Hand  HeadCT\n",
    "im_dir = os.path.join(data_dir, scan_type)\n",
    "all_filenames = [os.path.join(im_dir, filename) for filename in os.listdir(im_dir)]\n",
    "random.shuffle(all_filenames)\n",
    "\n",
    "# Visualise a few of them\n",
    "rand_images = np.random.choice(all_filenames, 8, replace=False)\n",
    "plot_ims(rand_images, shape=(2,4))"
   ]
  },
  {
   "cell_type": "code",
   "execution_count": 8,
   "metadata": {
    "ExecuteTime": {
     "end_time": "2020-12-26T17:28:20.834147Z",
     "start_time": "2020-12-26T17:28:20.829380Z"
    }
   },
   "outputs": [
    {
     "name": "stdout",
     "output_type": "stream",
     "text": [
      "total number of images: 10000\n",
      "number of images for training: 8000\n",
      "number of images for testing: 2000\n"
     ]
    }
   ],
   "source": [
    "# Split into training and testing\n",
    "test_frac = 0.2\n",
    "num_test = int(len(all_filenames) * test_frac)\n",
    "num_train = len(all_filenames) - num_test\n",
    "train_datadict = [{\"im\": fname} for fname in all_filenames[:num_train]]\n",
    "test_datadict = [{\"im\": fname} for fname in all_filenames[-num_test:]]\n",
    "print(f\"total number of images: {len(all_filenames)}\")\n",
    "print(f\"number of images for training: {len(train_datadict)}\")\n",
    "print(f\"number of images for testing: {len(test_datadict)}\")"
   ]
  },
  {
   "cell_type": "code",
   "execution_count": 11,
   "metadata": {
    "ExecuteTime": {
     "end_time": "2020-12-26T17:29:16.667664Z",
     "start_time": "2020-12-26T17:28:29.973663Z"
    }
   },
   "outputs": [
    {
     "name": "stderr",
     "output_type": "stream",
     "text": [
      "\n",
      "Load and cache transformed data:   0%|          | 0/8000 [00:00<?, ?it/s]\u001b[A\n",
      "Load and cache transformed data:   1%|          | 64/8000 [00:00<00:12, 632.45it/s]\u001b[A\n",
      "Load and cache transformed data:   1%|▏         | 101/8000 [00:00<00:15, 519.30it/s]\u001b[A\n",
      "Load and cache transformed data:   2%|▏         | 126/8000 [00:00<00:21, 361.13it/s]\u001b[A\n",
      "Load and cache transformed data:   2%|▏         | 150/8000 [00:00<00:26, 301.84it/s]\u001b[A\n",
      "Load and cache transformed data:   2%|▏         | 173/8000 [00:00<00:30, 260.76it/s]\u001b[A\n",
      "Load and cache transformed data:   2%|▏         | 195/8000 [00:00<00:32, 241.37it/s]\u001b[A\n",
      "Load and cache transformed data:   3%|▎         | 217/8000 [00:00<00:33, 234.22it/s]\u001b[A\n",
      "Load and cache transformed data:   3%|▎         | 239/8000 [00:00<00:34, 225.09it/s]\u001b[A\n",
      "Load and cache transformed data:   3%|▎         | 261/8000 [00:00<00:35, 217.01it/s]\u001b[A\n",
      "Load and cache transformed data:   4%|▎         | 283/8000 [00:01<00:36, 212.31it/s]\u001b[A\n",
      "Load and cache transformed data:   4%|▍         | 304/8000 [00:01<00:36, 211.19it/s]\u001b[A\n",
      "Load and cache transformed data:   4%|▍         | 325/8000 [00:01<00:36, 210.48it/s]\u001b[A\n",
      "Load and cache transformed data:   4%|▍         | 346/8000 [00:01<00:36, 208.79it/s]\u001b[A\n",
      "Load and cache transformed data:   5%|▍         | 367/8000 [00:01<00:36, 208.26it/s]\u001b[A\n",
      "Load and cache transformed data:   5%|▍         | 389/8000 [00:01<00:36, 206.71it/s]\u001b[A\n",
      "Load and cache transformed data:   5%|▌         | 411/8000 [00:01<00:36, 210.46it/s]\u001b[A\n",
      "Load and cache transformed data:   5%|▌         | 433/8000 [00:01<00:36, 206.16it/s]\u001b[A\n",
      "Load and cache transformed data:   6%|▌         | 471/8000 [00:01<00:31, 238.35it/s]\u001b[A\n",
      "Load and cache transformed data:   6%|▋         | 510/8000 [00:02<00:28, 265.67it/s]\u001b[A\n",
      "Load and cache transformed data:   7%|▋         | 548/8000 [00:02<00:25, 291.34it/s]\u001b[A\n",
      "Load and cache transformed data:   7%|▋         | 580/8000 [00:02<00:28, 261.93it/s]\u001b[A\n",
      "Load and cache transformed data:   8%|▊         | 609/8000 [00:02<00:30, 244.77it/s]\u001b[A\n",
      "Load and cache transformed data:   8%|▊         | 646/8000 [00:02<00:27, 270.92it/s]\u001b[A\n",
      "Load and cache transformed data:   8%|▊         | 676/8000 [00:02<00:29, 247.65it/s]\u001b[A\n",
      "Load and cache transformed data:   9%|▉         | 703/8000 [00:02<00:31, 234.91it/s]\u001b[A\n",
      "Load and cache transformed data:   9%|▉         | 728/8000 [00:02<00:32, 224.89it/s]\u001b[A\n",
      "Load and cache transformed data:   9%|▉         | 752/8000 [00:03<00:32, 220.04it/s]\u001b[A\n",
      "Load and cache transformed data:  10%|▉         | 775/8000 [00:03<00:33, 218.31it/s]\u001b[A\n",
      "Load and cache transformed data:  10%|▉         | 798/8000 [00:03<00:34, 211.32it/s]\u001b[A\n",
      "Load and cache transformed data:  10%|█         | 820/8000 [00:03<00:34, 208.55it/s]\u001b[A\n",
      "Load and cache transformed data:  11%|█         | 842/8000 [00:03<00:33, 211.14it/s]\u001b[A\n",
      "Load and cache transformed data:  11%|█         | 864/8000 [00:03<00:34, 206.18it/s]\u001b[A\n",
      "Load and cache transformed data:  11%|█         | 885/8000 [00:03<00:34, 205.70it/s]\u001b[A\n",
      "Load and cache transformed data:  11%|█▏        | 907/8000 [00:03<00:34, 207.62it/s]\u001b[A\n",
      "Load and cache transformed data:  12%|█▏        | 928/8000 [00:03<00:34, 203.15it/s]\u001b[A\n",
      "Load and cache transformed data:  12%|█▏        | 949/8000 [00:03<00:34, 202.69it/s]\u001b[A\n",
      "Load and cache transformed data:  12%|█▏        | 970/8000 [00:04<00:34, 203.38it/s]\u001b[A\n",
      "Load and cache transformed data:  12%|█▏        | 991/8000 [00:04<00:34, 200.94it/s]\u001b[A\n",
      "Load and cache transformed data:  13%|█▎        | 1012/8000 [00:04<00:34, 200.82it/s]\u001b[A\n",
      "Load and cache transformed data:  13%|█▎        | 1034/8000 [00:04<00:34, 201.52it/s]\u001b[A\n",
      "Load and cache transformed data:  13%|█▎        | 1055/8000 [00:04<00:34, 202.59it/s]\u001b[A\n",
      "Load and cache transformed data:  13%|█▎        | 1076/8000 [00:04<00:34, 200.40it/s]\u001b[A\n",
      "Load and cache transformed data:  14%|█▎        | 1097/8000 [00:04<00:34, 200.52it/s]\u001b[A\n",
      "Load and cache transformed data:  14%|█▍        | 1118/8000 [00:04<00:34, 201.27it/s]\u001b[A\n",
      "Load and cache transformed data:  14%|█▍        | 1140/8000 [00:04<00:33, 204.91it/s]\u001b[A\n",
      "Load and cache transformed data:  15%|█▍        | 1161/8000 [00:05<00:34, 198.92it/s]\u001b[A\n",
      "Load and cache transformed data:  15%|█▍        | 1182/8000 [00:05<00:33, 200.53it/s]\u001b[A\n",
      "Load and cache transformed data:  15%|█▌        | 1204/8000 [00:05<00:33, 201.67it/s]\u001b[A\n",
      "Load and cache transformed data:  15%|█▌        | 1225/8000 [00:05<00:33, 202.59it/s]\u001b[A\n",
      "Load and cache transformed data:  16%|█▌        | 1246/8000 [00:05<00:33, 202.80it/s]\u001b[A\n",
      "Load and cache transformed data:  16%|█▌        | 1267/8000 [00:05<00:32, 204.83it/s]\u001b[A\n",
      "Load and cache transformed data:  16%|█▌        | 1288/8000 [00:05<00:32, 205.58it/s]\u001b[A\n",
      "Load and cache transformed data:  16%|█▋        | 1309/8000 [00:05<00:32, 203.14it/s]\u001b[A\n",
      "Load and cache transformed data:  17%|█▋        | 1330/8000 [00:05<00:33, 200.68it/s]\u001b[A\n",
      "Load and cache transformed data:  17%|█▋        | 1351/8000 [00:05<00:32, 201.68it/s]\u001b[A\n",
      "Load and cache transformed data:  17%|█▋        | 1372/8000 [00:06<00:32, 202.10it/s]\u001b[A\n",
      "Load and cache transformed data:  17%|█▋        | 1393/8000 [00:06<00:32, 203.59it/s]\u001b[A\n",
      "Load and cache transformed data:  18%|█▊        | 1414/8000 [00:06<00:32, 201.57it/s]\u001b[A\n",
      "Load and cache transformed data:  18%|█▊        | 1435/8000 [00:06<00:32, 203.96it/s]\u001b[A\n",
      "Load and cache transformed data:  18%|█▊        | 1456/8000 [00:06<00:32, 202.56it/s]\u001b[A\n",
      "Load and cache transformed data:  18%|█▊        | 1477/8000 [00:06<00:32, 200.07it/s]\u001b[A\n",
      "Load and cache transformed data:  19%|█▊        | 1498/8000 [00:06<00:32, 199.26it/s]\u001b[A\n",
      "Load and cache transformed data:  19%|█▉        | 1518/8000 [00:06<00:32, 198.93it/s]\u001b[A\n",
      "Load and cache transformed data:  19%|█▉        | 1538/8000 [00:06<00:32, 198.94it/s]\u001b[A\n",
      "Load and cache transformed data:  19%|█▉        | 1559/8000 [00:07<00:32, 199.62it/s]\u001b[A\n",
      "Load and cache transformed data:  20%|█▉        | 1580/8000 [00:07<00:31, 200.80it/s]\u001b[A\n",
      "Load and cache transformed data:  20%|██        | 1601/8000 [00:07<00:31, 200.31it/s]\u001b[A\n",
      "Load and cache transformed data:  20%|██        | 1622/8000 [00:07<00:31, 200.08it/s]\u001b[A\n",
      "Load and cache transformed data:  21%|██        | 1643/8000 [00:07<00:31, 199.37it/s]\u001b[A\n",
      "Load and cache transformed data:  21%|██        | 1664/8000 [00:07<00:31, 200.14it/s]\u001b[A\n",
      "Load and cache transformed data:  21%|██        | 1685/8000 [00:07<00:31, 200.50it/s]\u001b[A\n",
      "Load and cache transformed data:   2%|▎         | 200/8000 [00:16<09:31, 13.64it/s]s]\u001b[A\n",
      "Load and cache transformed data:  22%|██▏       | 1727/8000 [00:07<00:31, 197.59it/s]\u001b[A\n",
      "Load and cache transformed data:  22%|██▏       | 1748/8000 [00:07<00:31, 198.67it/s]\u001b[A\n",
      "Load and cache transformed data:  22%|██▏       | 1769/8000 [00:08<00:31, 198.62it/s]\u001b[A\n",
      "Load and cache transformed data:  22%|██▏       | 1789/8000 [00:08<00:31, 198.39it/s]\u001b[A\n",
      "Load and cache transformed data:  23%|██▎       | 1811/8000 [00:08<00:31, 199.33it/s]\u001b[A\n",
      "Load and cache transformed data:  23%|██▎       | 1831/8000 [00:08<00:31, 198.48it/s]\u001b[A\n",
      "Load and cache transformed data:  23%|██▎       | 1852/8000 [00:08<00:30, 199.79it/s]\u001b[A\n",
      "Load and cache transformed data:  23%|██▎       | 1874/8000 [00:08<00:30, 203.13it/s]\u001b[A\n",
      "Load and cache transformed data:  24%|██▎       | 1895/8000 [00:08<00:30, 202.50it/s]\u001b[A\n",
      "Load and cache transformed data:  24%|██▍       | 1916/8000 [00:08<00:30, 198.96it/s]\u001b[A\n",
      "Load and cache transformed data:  24%|██▍       | 1938/8000 [00:08<00:29, 202.60it/s]\u001b[A\n",
      "Load and cache transformed data:  24%|██▍       | 1959/8000 [00:09<00:30, 200.19it/s]\u001b[A\n",
      "Load and cache transformed data:  25%|██▍       | 1981/8000 [00:09<00:30, 200.51it/s]\u001b[A\n",
      "Load and cache transformed data:  25%|██▌       | 2002/8000 [00:09<00:30, 198.84it/s]\u001b[A\n",
      "Load and cache transformed data:  25%|██▌       | 2022/8000 [00:09<00:30, 197.98it/s]\u001b[A\n",
      "Load and cache transformed data:  26%|██▌       | 2042/8000 [00:09<00:30, 198.53it/s]\u001b[A\n",
      "Load and cache transformed data:  26%|██▌       | 2063/8000 [00:09<00:29, 199.61it/s]\u001b[A\n",
      "Load and cache transformed data:  26%|██▌       | 2084/8000 [00:09<00:29, 200.15it/s]\u001b[A\n",
      "Load and cache transformed data:  27%|██▋       | 2152/8000 [00:09<00:23, 253.33it/s]\u001b[A\n",
      "Load and cache transformed data:  28%|██▊       | 2200/8000 [00:09<00:19, 293.02it/s]\u001b[A\n",
      "Load and cache transformed data:  28%|██▊       | 2238/8000 [00:10<00:22, 259.45it/s]\u001b[A\n",
      "Load and cache transformed data:  28%|██▊       | 2271/8000 [00:10<00:23, 239.99it/s]\u001b[A\n",
      "Load and cache transformed data:  29%|██▉       | 2300/8000 [00:10<00:24, 228.36it/s]\u001b[A\n",
      "Load and cache transformed data:  29%|██▉       | 2327/8000 [00:10<00:25, 223.55it/s]\u001b[A\n",
      "Load and cache transformed data:  29%|██▉       | 2352/8000 [00:10<00:26, 215.24it/s]\u001b[A\n",
      "Load and cache transformed data:  30%|██▉       | 2376/8000 [00:10<00:26, 211.98it/s]\u001b[A\n",
      "Load and cache transformed data:  30%|██▉       | 2399/8000 [00:10<00:26, 209.38it/s]\u001b[A\n",
      "Load and cache transformed data:  30%|███       | 2421/8000 [00:10<00:26, 207.58it/s]\u001b[A\n",
      "Load and cache transformed data:  31%|███       | 2443/8000 [00:11<00:26, 206.51it/s]\u001b[A\n",
      "Load and cache transformed data:  31%|███       | 2465/8000 [00:11<00:26, 209.69it/s]\u001b[A\n",
      "Load and cache transformed data:  31%|███       | 2487/8000 [00:11<00:26, 204.59it/s]\u001b[A\n",
      "Load and cache transformed data:  31%|███▏      | 2508/8000 [00:11<00:27, 203.06it/s]\u001b[A\n",
      "Load and cache transformed data:  32%|███▏      | 2529/8000 [00:11<00:26, 203.65it/s]\u001b[A\n",
      "Load and cache transformed data:  32%|███▏      | 2551/8000 [00:11<00:26, 203.61it/s]\u001b[A\n",
      "Load and cache transformed data:  32%|███▏      | 2572/8000 [00:11<00:26, 205.29it/s]\u001b[A\n",
      "Load and cache transformed data:  32%|███▏      | 2593/8000 [00:11<00:26, 201.44it/s]\u001b[A\n",
      "Load and cache transformed data:  33%|███▎      | 2614/8000 [00:11<00:26, 202.31it/s]\u001b[A\n",
      "Load and cache transformed data:  33%|███▎      | 2636/8000 [00:11<00:26, 205.23it/s]\u001b[A\n",
      "Load and cache transformed data:  33%|███▎      | 2657/8000 [00:12<00:26, 201.04it/s]\u001b[A\n",
      "Load and cache transformed data:  33%|███▎      | 2678/8000 [00:12<00:26, 202.02it/s]\u001b[A\n",
      "Load and cache transformed data:  34%|███▎      | 2699/8000 [00:12<00:26, 201.41it/s]\u001b[A\n",
      "Load and cache transformed data:  34%|███▍      | 2720/8000 [00:12<00:26, 201.97it/s]\u001b[A\n",
      "Load and cache transformed data:  34%|███▍      | 2741/8000 [00:12<00:26, 201.77it/s]\u001b[A\n",
      "Load and cache transformed data:  35%|███▍      | 2762/8000 [00:12<00:25, 201.70it/s]\u001b[A\n",
      "Load and cache transformed data:  35%|███▍      | 2783/8000 [00:12<00:25, 202.82it/s]\u001b[A\n",
      "Load and cache transformed data:  35%|███▌      | 2804/8000 [00:12<00:25, 203.66it/s]\u001b[A\n",
      "Load and cache transformed data:  35%|███▌      | 2826/8000 [00:12<00:25, 203.15it/s]\u001b[A\n",
      "Load and cache transformed data:  36%|███▌      | 2847/8000 [00:13<00:25, 203.46it/s]\u001b[A\n",
      "Load and cache transformed data:  36%|███▌      | 2868/8000 [00:13<00:25, 203.35it/s]\u001b[A\n",
      "Load and cache transformed data:  36%|███▌      | 2889/8000 [00:13<00:25, 202.12it/s]\u001b[A\n",
      "Load and cache transformed data:  36%|███▋      | 2910/8000 [00:13<00:25, 201.29it/s]\u001b[A\n",
      "Load and cache transformed data:  37%|███▋      | 2931/8000 [00:13<00:25, 200.70it/s]\u001b[A\n",
      "Load and cache transformed data:  37%|███▋      | 2952/8000 [00:13<00:25, 201.76it/s]\u001b[A\n",
      "Load and cache transformed data:  37%|███▋      | 2973/8000 [00:13<00:24, 201.96it/s]\u001b[A\n",
      "Load and cache transformed data:  37%|███▋      | 2995/8000 [00:13<00:24, 202.10it/s]\u001b[A\n",
      "Load and cache transformed data:  38%|███▊      | 3016/8000 [00:13<00:24, 201.98it/s]\u001b[A\n",
      "Load and cache transformed data:  38%|███▊      | 3037/8000 [00:13<00:24, 204.08it/s]\u001b[A\n",
      "Load and cache transformed data:  38%|███▊      | 3058/8000 [00:14<00:24, 200.81it/s]\u001b[A\n",
      "Load and cache transformed data:  38%|███▊      | 3079/8000 [00:14<00:24, 199.71it/s]\u001b[A\n",
      "Load and cache transformed data:  39%|███▉      | 3100/8000 [00:14<00:24, 201.07it/s]\u001b[A\n",
      "Load and cache transformed data:  39%|███▉      | 3121/8000 [00:14<00:24, 200.59it/s]\u001b[A\n",
      "Load and cache transformed data:  39%|███▉      | 3142/8000 [00:14<00:23, 203.26it/s]\u001b[A\n",
      "Load and cache transformed data:  40%|███▉      | 3179/8000 [00:14<00:20, 234.49it/s]\u001b[A\n",
      "Load and cache transformed data:  40%|████      | 3205/8000 [00:14<00:21, 221.42it/s]\u001b[A\n",
      "Load and cache transformed data:  41%|████      | 3252/8000 [00:14<00:18, 262.80it/s]\u001b[A\n",
      "Load and cache transformed data:  42%|████▏     | 3338/8000 [00:14<00:14, 331.61it/s]\u001b[A\n",
      "Load and cache transformed data:  43%|████▎     | 3428/8000 [00:15<00:11, 407.74it/s]\u001b[A\n",
      "Load and cache transformed data:  44%|████▎     | 3488/8000 [00:15<00:10, 429.67it/s]\u001b[A\n",
      "Load and cache transformed data:  44%|████▍     | 3545/8000 [00:15<00:13, 327.59it/s]\u001b[A\n",
      "Load and cache transformed data:  45%|████▍     | 3591/8000 [00:15<00:13, 329.11it/s]\u001b[A\n",
      "Load and cache transformed data:  45%|████▌     | 3633/8000 [00:15<00:13, 331.43it/s]\u001b[A\n",
      "Load and cache transformed data:  46%|████▌     | 3673/8000 [00:15<00:15, 281.28it/s]\u001b[A\n",
      "Load and cache transformed data:  46%|████▋     | 3707/8000 [00:16<00:16, 252.82it/s]\u001b[A\n",
      "Load and cache transformed data:  47%|████▋     | 3737/8000 [00:16<00:18, 233.27it/s]\u001b[A\n",
      "Load and cache transformed data:  47%|████▋     | 3774/8000 [00:16<00:16, 260.84it/s]\u001b[A\n",
      "Load and cache transformed data:  48%|████▊     | 3804/8000 [00:16<00:17, 242.16it/s]\u001b[A\n",
      "Load and cache transformed data:  48%|████▊     | 3831/8000 [00:16<00:18, 227.14it/s]\u001b[A\n",
      "Load and cache transformed data:  48%|████▊     | 3856/8000 [00:16<00:18, 220.10it/s]\u001b[A\n",
      "Load and cache transformed data:  48%|████▊     | 3880/8000 [00:16<00:19, 214.55it/s]\u001b[A\n",
      "Load and cache transformed data:  49%|████▉     | 3903/8000 [00:16<00:19, 208.64it/s]\u001b[A\n",
      "Load and cache transformed data:  49%|████▉     | 3925/8000 [00:17<00:19, 205.77it/s]\u001b[A\n",
      "Load and cache transformed data:  49%|████▉     | 3947/8000 [00:17<00:19, 203.84it/s]\u001b[A\n",
      "Load and cache transformed data:  50%|████▉     | 3968/8000 [00:17<00:19, 203.49it/s]\u001b[A\n",
      "Load and cache transformed data:  50%|████▉     | 3989/8000 [00:17<00:19, 201.99it/s]\u001b[A\n",
      "Load and cache transformed data:  50%|█████     | 4010/8000 [00:17<00:19, 203.25it/s]\u001b[A\n",
      "Load and cache transformed data:  50%|█████     | 4031/8000 [00:17<00:20, 198.01it/s]\u001b[A\n",
      "Load and cache transformed data:  51%|█████     | 4051/8000 [00:17<00:20, 197.43it/s]\u001b[A\n",
      "Load and cache transformed data:  51%|█████     | 4083/8000 [00:17<00:17, 222.44it/s]\u001b[A\n",
      "Load and cache transformed data:  51%|█████▏    | 4109/8000 [00:17<00:16, 231.91it/s]\u001b[A\n",
      "Load and cache transformed data:  52%|█████▏    | 4134/8000 [00:17<00:17, 223.23it/s]\u001b[A\n",
      "Load and cache transformed data:  52%|█████▏    | 4158/8000 [00:18<00:17, 216.48it/s]\u001b[A\n",
      "Load and cache transformed data:  52%|█████▏    | 4181/8000 [00:18<00:18, 211.76it/s]\u001b[A\n",
      "Load and cache transformed data:  53%|█████▎    | 4203/8000 [00:18<00:18, 210.09it/s]\u001b[A\n",
      "Load and cache transformed data:  53%|█████▎    | 4225/8000 [00:18<00:18, 204.94it/s]\u001b[A\n",
      "Load and cache transformed data:  53%|█████▎    | 4246/8000 [00:18<00:18, 202.83it/s]\u001b[A\n",
      "Load and cache transformed data:  53%|█████▎    | 4267/8000 [00:18<00:18, 201.92it/s]\u001b[A\n",
      "Load and cache transformed data:  54%|█████▎    | 4288/8000 [00:18<00:18, 201.54it/s]\u001b[A\n",
      "Load and cache transformed data:  54%|█████▍    | 4309/8000 [00:18<00:18, 201.76it/s]\u001b[A\n",
      "Load and cache transformed data:  54%|█████▍    | 4330/8000 [00:18<00:18, 203.13it/s]\u001b[A\n",
      "Load and cache transformed data:  54%|█████▍    | 4351/8000 [00:19<00:17, 203.33it/s]\u001b[A\n",
      "Load and cache transformed data:  55%|█████▍    | 4372/8000 [00:19<00:17, 202.24it/s]\u001b[A\n",
      "Load and cache transformed data:  55%|█████▍    | 4393/8000 [00:19<00:18, 198.18it/s]\u001b[A\n",
      "Load and cache transformed data:  55%|█████▌    | 4413/8000 [00:19<00:18, 197.68it/s]\u001b[A\n",
      "Load and cache transformed data:  55%|█████▌    | 4435/8000 [00:19<00:17, 199.57it/s]\u001b[A\n",
      "Load and cache transformed data:  56%|█████▌    | 4456/8000 [00:19<00:17, 201.83it/s]\u001b[A\n",
      "Load and cache transformed data:  56%|█████▌    | 4477/8000 [00:19<00:17, 198.95it/s]\u001b[A\n",
      "Load and cache transformed data:  56%|█████▌    | 4497/8000 [00:19<00:17, 198.21it/s]\u001b[A\n",
      "Load and cache transformed data:  56%|█████▋    | 4519/8000 [00:19<00:17, 202.02it/s]\u001b[A\n",
      "Load and cache transformed data:  57%|█████▋    | 4540/8000 [00:20<00:17, 200.45it/s]\u001b[A\n",
      "Load and cache transformed data:  57%|█████▋    | 4561/8000 [00:20<00:17, 197.57it/s]\u001b[A\n",
      "Load and cache transformed data:  57%|█████▋    | 4581/8000 [00:20<00:17, 197.93it/s]\u001b[A\n",
      "Load and cache transformed data:  58%|█████▊    | 4601/8000 [00:20<00:17, 198.15it/s]\u001b[A\n",
      "Load and cache transformed data:  58%|█████▊    | 4621/8000 [00:20<00:17, 198.63it/s]\u001b[A\n",
      "Load and cache transformed data:  58%|█████▊    | 4641/8000 [00:20<00:16, 198.82it/s]\u001b[A\n",
      "Load and cache transformed data:  58%|█████▊    | 4663/8000 [00:20<00:16, 203.04it/s]\u001b[A\n",
      "Load and cache transformed data:  59%|█████▊    | 4684/8000 [00:20<00:16, 199.18it/s]\u001b[A\n",
      "Load and cache transformed data:  59%|█████▉    | 4705/8000 [00:20<00:16, 200.22it/s]\u001b[A\n",
      "Load and cache transformed data:  59%|█████▉    | 4726/8000 [00:20<00:16, 202.74it/s]\u001b[A\n",
      "Load and cache transformed data:  59%|█████▉    | 4747/8000 [00:21<00:16, 198.72it/s]\u001b[A\n",
      "Load and cache transformed data:  60%|█████▉    | 4768/8000 [00:21<00:16, 199.37it/s]\u001b[A\n",
      "Load and cache transformed data:  60%|█████▉    | 4789/8000 [00:21<00:16, 200.21it/s]\u001b[A\n",
      "Load and cache transformed data:  60%|██████    | 4810/8000 [00:21<00:15, 201.67it/s]\u001b[A\n",
      "Load and cache transformed data:  60%|██████    | 4831/8000 [00:21<00:15, 199.39it/s]\u001b[A\n",
      "Load and cache transformed data:  61%|██████    | 4852/8000 [00:21<00:15, 199.99it/s]\u001b[A\n",
      "Load and cache transformed data:  61%|██████    | 4873/8000 [00:21<00:15, 198.94it/s]\u001b[A\n",
      "Load and cache transformed data:  61%|██████    | 4893/8000 [00:21<00:15, 199.00it/s]\u001b[A\n",
      "Load and cache transformed data:  61%|██████▏   | 4914/8000 [00:21<00:15, 201.12it/s]\u001b[A\n",
      "Load and cache transformed data:  62%|██████▏   | 4935/8000 [00:22<00:15, 201.24it/s]\u001b[A\n",
      "Load and cache transformed data:  62%|██████▏   | 4956/8000 [00:22<00:15, 200.27it/s]\u001b[A\n",
      "Load and cache transformed data:  62%|██████▏   | 4977/8000 [00:22<00:14, 201.99it/s]\u001b[A\n",
      "Load and cache transformed data:  62%|██████▏   | 4998/8000 [00:22<00:15, 199.01it/s]\u001b[A\n",
      "Load and cache transformed data:  63%|██████▎   | 5018/8000 [00:22<00:15, 197.02it/s]\u001b[A\n",
      "Load and cache transformed data:  63%|██████▎   | 5039/8000 [00:22<00:14, 198.90it/s]\u001b[A\n",
      "Load and cache transformed data:  63%|██████▎   | 5059/8000 [00:22<00:14, 198.29it/s]\u001b[A\n",
      "Load and cache transformed data:  64%|██████▎   | 5080/8000 [00:22<00:14, 199.16it/s]\u001b[A\n",
      "Load and cache transformed data:  64%|██████▍   | 5101/8000 [00:22<00:14, 199.73it/s]\u001b[A\n",
      "Load and cache transformed data:  64%|██████▍   | 5122/8000 [00:22<00:14, 201.00it/s]\u001b[A\n",
      "Load and cache transformed data:  64%|██████▍   | 5143/8000 [00:23<00:14, 197.42it/s]\u001b[A\n",
      "Load and cache transformed data:  65%|██████▍   | 5163/8000 [00:23<00:14, 196.96it/s]\u001b[A\n",
      "Load and cache transformed data:  65%|██████▍   | 5184/8000 [00:23<00:14, 199.95it/s]\u001b[A\n",
      "Load and cache transformed data:  65%|██████▌   | 5221/8000 [00:23<00:11, 231.83it/s]\u001b[A\n",
      "Load and cache transformed data:  66%|██████▌   | 5247/8000 [00:23<00:12, 221.20it/s]\u001b[A\n",
      "Load and cache transformed data:  66%|██████▌   | 5271/8000 [00:23<00:12, 217.30it/s]\u001b[A\n",
      "Load and cache transformed data:  66%|██████▌   | 5294/8000 [00:23<00:12, 210.35it/s]\u001b[A\n",
      "Load and cache transformed data:  66%|██████▋   | 5316/8000 [00:23<00:12, 207.61it/s]\u001b[A\n",
      "Load and cache transformed data:  67%|██████▋   | 5338/8000 [00:23<00:12, 205.36it/s]\u001b[A\n",
      "Load and cache transformed data:  67%|██████▋   | 5359/8000 [00:24<00:12, 204.46it/s]\u001b[A\n",
      "Load and cache transformed data:  67%|██████▋   | 5380/8000 [00:24<00:12, 203.53it/s]\u001b[A\n",
      "Load and cache transformed data:  68%|██████▊   | 5401/8000 [00:24<00:12, 200.66it/s]\u001b[A\n",
      "Load and cache transformed data:  68%|██████▊   | 5422/8000 [00:24<00:12, 200.05it/s]\u001b[A\n",
      "Load and cache transformed data:  68%|██████▊   | 5443/8000 [00:24<00:12, 199.92it/s]\u001b[A\n",
      "Load and cache transformed data:  68%|██████▊   | 5465/8000 [00:24<00:12, 200.32it/s]\u001b[A\n",
      "Load and cache transformed data:  69%|██████▊   | 5486/8000 [00:24<00:12, 202.26it/s]\u001b[A\n",
      "Load and cache transformed data:  69%|██████▉   | 5507/8000 [00:24<00:12, 197.96it/s]\u001b[A\n",
      "Load and cache transformed data:  69%|██████▉   | 5528/8000 [00:24<00:12, 198.52it/s]\u001b[A\n",
      "Load and cache transformed data:  69%|██████▉   | 5548/8000 [00:24<00:12, 197.65it/s]\u001b[A\n",
      "Load and cache transformed data:  70%|██████▉   | 5569/8000 [00:25<00:12, 196.68it/s]\u001b[A\n",
      "Load and cache transformed data:  70%|██████▉   | 5589/8000 [00:25<00:12, 195.72it/s]\u001b[A\n",
      "Load and cache transformed data:  70%|███████   | 5609/8000 [00:25<00:12, 195.80it/s]\u001b[A\n",
      "Load and cache transformed data:  70%|███████   | 5631/8000 [00:25<00:11, 200.22it/s]\u001b[A\n",
      "Load and cache transformed data:  71%|███████   | 5652/8000 [00:25<00:11, 197.58it/s]\u001b[A\n",
      "Load and cache transformed data:  71%|███████   | 5672/8000 [00:25<00:11, 197.65it/s]\u001b[A\n",
      "Load and cache transformed data:  71%|███████   | 5692/8000 [00:25<00:11, 196.32it/s]\u001b[A\n",
      "Load and cache transformed data:  71%|███████▏  | 5713/8000 [00:25<00:11, 197.62it/s]\u001b[A\n",
      "Load and cache transformed data:  72%|███████▏  | 5733/8000 [00:25<00:11, 198.23it/s]\u001b[A\n",
      "Load and cache transformed data:  72%|███████▏  | 5754/8000 [00:26<00:11, 199.13it/s]\u001b[A\n",
      "Load and cache transformed data:  72%|███████▏  | 5791/8000 [00:26<00:09, 229.28it/s]\u001b[A\n",
      "Load and cache transformed data:  73%|███████▎  | 5816/8000 [00:26<00:09, 221.32it/s]\u001b[A\n",
      "Load and cache transformed data:  73%|███████▎  | 5840/8000 [00:26<00:09, 218.46it/s]\u001b[A\n",
      "Load and cache transformed data:  73%|███████▎  | 5863/8000 [00:26<00:10, 212.31it/s]\u001b[A\n",
      "Load and cache transformed data:  74%|███████▎  | 5885/8000 [00:26<00:10, 204.72it/s]\u001b[A\n",
      "Load and cache transformed data:  74%|███████▍  | 5906/8000 [00:26<00:10, 203.66it/s]\u001b[A\n",
      "Load and cache transformed data:  74%|███████▍  | 5942/8000 [00:26<00:08, 233.81it/s]\u001b[A\n",
      "Load and cache transformed data:  75%|███████▍  | 5968/8000 [00:26<00:09, 221.11it/s]\u001b[A\n",
      "Load and cache transformed data:  75%|███████▍  | 5992/8000 [00:27<00:09, 214.55it/s]\u001b[A\n",
      "Load and cache transformed data:  75%|███████▌  | 6015/8000 [00:27<00:09, 205.86it/s]\u001b[A\n",
      "Load and cache transformed data:  75%|███████▌  | 6037/8000 [00:27<00:09, 203.87it/s]\u001b[A\n",
      "Load and cache transformed data:  76%|███████▌  | 6058/8000 [00:27<00:09, 202.55it/s]\u001b[A\n",
      "Load and cache transformed data:  76%|███████▌  | 6079/8000 [00:27<00:09, 201.22it/s]\u001b[A\n",
      "Load and cache transformed data:  76%|███████▋  | 6100/8000 [00:27<00:09, 199.63it/s]\u001b[A\n",
      "Load and cache transformed data:  77%|███████▋  | 6121/8000 [00:27<00:09, 199.48it/s]\u001b[A\n",
      "Load and cache transformed data:  77%|███████▋  | 6142/8000 [00:27<00:09, 197.83it/s]\u001b[A\n",
      "Load and cache transformed data:  77%|███████▋  | 6162/8000 [00:27<00:09, 197.19it/s]\u001b[A\n",
      "Load and cache transformed data:  77%|███████▋  | 6183/8000 [00:28<00:09, 198.28it/s]\u001b[A\n",
      "Load and cache transformed data:  78%|███████▊  | 6203/8000 [00:28<00:09, 198.61it/s]\u001b[A\n",
      "Load and cache transformed data:  78%|███████▊  | 6223/8000 [00:28<00:08, 199.02it/s]\u001b[A\n",
      "Load and cache transformed data:  78%|███████▊  | 6244/8000 [00:28<00:08, 198.82it/s]\u001b[A\n",
      "Load and cache transformed data:  78%|███████▊  | 6264/8000 [00:28<00:08, 199.12it/s]\u001b[A\n",
      "Load and cache transformed data:  79%|███████▊  | 6285/8000 [00:28<00:08, 199.01it/s]\u001b[A\n",
      "Load and cache transformed data:  79%|███████▉  | 6305/8000 [00:28<00:08, 199.01it/s]\u001b[A\n",
      "Load and cache transformed data:  79%|███████▉  | 6325/8000 [00:28<00:08, 198.55it/s]\u001b[A\n",
      "Load and cache transformed data:  79%|███████▉  | 6346/8000 [00:28<00:08, 197.94it/s]\u001b[A\n",
      "Load and cache transformed data:  80%|███████▉  | 6366/8000 [00:28<00:08, 197.55it/s]\u001b[A\n",
      "Load and cache transformed data:  80%|███████▉  | 6386/8000 [00:29<00:08, 196.64it/s]\u001b[A\n",
      "Load and cache transformed data:  80%|████████  | 6407/8000 [00:29<00:08, 198.04it/s]\u001b[A\n",
      "Load and cache transformed data:  80%|████████  | 6427/8000 [00:29<00:07, 197.74it/s]\u001b[A\n",
      "Load and cache transformed data:  81%|████████  | 6447/8000 [00:29<00:07, 198.14it/s]\u001b[A\n",
      "Load and cache transformed data:  81%|████████  | 6467/8000 [00:29<00:07, 198.10it/s]\u001b[A\n",
      "Load and cache transformed data:  81%|████████  | 6488/8000 [00:29<00:07, 198.48it/s]\u001b[A\n",
      "Load and cache transformed data:  81%|████████▏ | 6510/8000 [00:29<00:07, 199.37it/s]\u001b[A\n",
      "Load and cache transformed data:  82%|████████▏ | 6531/8000 [00:29<00:07, 200.92it/s]\u001b[A\n",
      "Load and cache transformed data:  82%|████████▏ | 6552/8000 [00:29<00:07, 200.14it/s]\u001b[A\n",
      "Load and cache transformed data:  82%|████████▏ | 6573/8000 [00:29<00:07, 200.28it/s]\u001b[A\n",
      "Load and cache transformed data:  83%|████████▎ | 6608/8000 [00:30<00:06, 229.01it/s]\u001b[A\n",
      "Load and cache transformed data:  83%|████████▎ | 6633/8000 [00:30<00:06, 215.65it/s]\u001b[A\n",
      "Load and cache transformed data:  83%|████████▎ | 6656/8000 [00:30<00:06, 211.28it/s]\u001b[A\n",
      "Load and cache transformed data:  83%|████████▎ | 6678/8000 [00:30<00:06, 207.80it/s]\u001b[A\n",
      "Load and cache transformed data:  84%|████████▍ | 6700/8000 [00:30<00:06, 204.47it/s]\u001b[A\n",
      "Load and cache transformed data:  84%|████████▍ | 6721/8000 [00:30<00:06, 203.72it/s]\u001b[A\n",
      "Load and cache transformed data:  84%|████████▍ | 6742/8000 [00:30<00:06, 202.32it/s]\u001b[A\n",
      "Load and cache transformed data:  85%|████████▍ | 6764/8000 [00:30<00:06, 202.42it/s]\u001b[A\n",
      "Load and cache transformed data:  85%|████████▍ | 6785/8000 [00:30<00:06, 202.14it/s]\u001b[A\n",
      "Load and cache transformed data:  85%|████████▌ | 6806/8000 [00:31<00:05, 200.97it/s]\u001b[A\n",
      "Load and cache transformed data:  85%|████████▌ | 6827/8000 [00:31<00:05, 203.44it/s]\u001b[A\n",
      "Load and cache transformed data:  86%|████████▌ | 6848/8000 [00:31<00:05, 198.69it/s]\u001b[A\n",
      "Load and cache transformed data:  86%|████████▌ | 6868/8000 [00:31<00:05, 197.04it/s]\u001b[A\n",
      "Load and cache transformed data:  86%|████████▌ | 6888/8000 [00:31<00:05, 196.67it/s]\u001b[A\n",
      "Load and cache transformed data:  86%|████████▋ | 6910/8000 [00:31<00:05, 199.19it/s]\u001b[A\n",
      "Load and cache transformed data:  87%|████████▋ | 6930/8000 [00:31<00:05, 199.12it/s]\u001b[A\n",
      "Load and cache transformed data:  87%|████████▋ | 6950/8000 [00:31<00:05, 197.96it/s]\u001b[A\n",
      "Load and cache transformed data:  87%|████████▋ | 6970/8000 [00:31<00:05, 198.19it/s]\u001b[A\n",
      "Load and cache transformed data:  87%|████████▋ | 6990/8000 [00:32<00:05, 194.23it/s]\u001b[A\n",
      "Load and cache transformed data:  88%|████████▊ | 7011/8000 [00:32<00:05, 195.92it/s]\u001b[A\n",
      "Load and cache transformed data:  88%|████████▊ | 7032/8000 [00:32<00:04, 198.04it/s]\u001b[A\n",
      "Load and cache transformed data:  88%|████████▊ | 7053/8000 [00:32<00:04, 199.04it/s]\u001b[A\n",
      "Load and cache transformed data:  88%|████████▊ | 7073/8000 [00:32<00:04, 198.72it/s]\u001b[A\n",
      "Load and cache transformed data:  89%|████████▊ | 7093/8000 [00:32<00:04, 196.97it/s]\u001b[A\n",
      "Load and cache transformed data:  89%|████████▉ | 7113/8000 [00:32<00:04, 197.15it/s]\u001b[A\n",
      "Load and cache transformed data:  89%|████████▉ | 7134/8000 [00:32<00:04, 196.62it/s]\u001b[A\n",
      "Load and cache transformed data:  89%|████████▉ | 7154/8000 [00:32<00:04, 194.71it/s]\u001b[A\n",
      "Load and cache transformed data:  90%|████████▉ | 7174/8000 [00:32<00:04, 196.09it/s]\u001b[A\n",
      "Load and cache transformed data:  90%|████████▉ | 7194/8000 [00:33<00:04, 195.86it/s]\u001b[A\n",
      "Load and cache transformed data:  90%|█████████ | 7215/8000 [00:33<00:03, 197.87it/s]\u001b[A\n",
      "Load and cache transformed data:  90%|█████████ | 7235/8000 [00:33<00:03, 198.05it/s]\u001b[A\n",
      "Load and cache transformed data:  91%|█████████ | 7256/8000 [00:33<00:03, 197.30it/s]\u001b[A\n",
      "Load and cache transformed data:  91%|█████████ | 7276/8000 [00:33<00:03, 197.12it/s]\u001b[A\n",
      "Load and cache transformed data:  91%|█████████ | 7296/8000 [00:33<00:03, 196.69it/s]\u001b[A\n",
      "Load and cache transformed data:  91%|█████████▏| 7317/8000 [00:33<00:03, 198.58it/s]\u001b[A\n",
      "Load and cache transformed data:  92%|█████████▏| 7337/8000 [00:33<00:03, 198.73it/s]\u001b[A\n",
      "Load and cache transformed data:  92%|█████████▏| 7357/8000 [00:33<00:03, 198.80it/s]\u001b[A\n",
      "Load and cache transformed data:  92%|█████████▏| 7377/8000 [00:33<00:03, 199.06it/s]\u001b[A\n",
      "Load and cache transformed data:  92%|█████████▏| 7398/8000 [00:34<00:02, 201.03it/s]\u001b[A\n",
      "Load and cache transformed data:  93%|█████████▎| 7419/8000 [00:34<00:02, 197.79it/s]\u001b[A\n",
      "Load and cache transformed data:  93%|█████████▎| 7440/8000 [00:34<00:02, 199.16it/s]\u001b[A\n",
      "Load and cache transformed data:  93%|█████████▎| 7461/8000 [00:34<00:02, 199.01it/s]\u001b[A\n",
      "Load and cache transformed data:  94%|█████████▎| 7482/8000 [00:34<00:02, 200.11it/s]\u001b[A\n",
      "Load and cache transformed data:  94%|█████████▍| 7503/8000 [00:34<00:02, 200.12it/s]\u001b[A\n",
      "Load and cache transformed data:  94%|█████████▍| 7524/8000 [00:34<00:02, 202.25it/s]\u001b[A\n",
      "Load and cache transformed data:  94%|█████████▍| 7545/8000 [00:34<00:02, 198.13it/s]\u001b[A\n",
      "Load and cache transformed data:  95%|█████████▍| 7566/8000 [00:34<00:02, 199.01it/s]\u001b[A\n",
      "Load and cache transformed data:  95%|█████████▍| 7586/8000 [00:35<00:02, 198.41it/s]\u001b[A\n",
      "Load and cache transformed data:  95%|█████████▌| 7606/8000 [00:35<00:02, 195.45it/s]\u001b[A\n",
      "Load and cache transformed data:  95%|█████████▌| 7626/8000 [00:35<00:01, 195.85it/s]\u001b[A\n",
      "Load and cache transformed data:  96%|█████████▌| 7646/8000 [00:35<00:01, 195.98it/s]\u001b[A\n",
      "Load and cache transformed data:  96%|█████████▌| 7667/8000 [00:35<00:01, 196.77it/s]\u001b[A\n",
      "Load and cache transformed data:  96%|█████████▌| 7688/8000 [00:35<00:01, 198.81it/s]\u001b[A\n",
      "Load and cache transformed data:  96%|█████████▋| 7708/8000 [00:35<00:01, 196.58it/s]\u001b[A\n",
      "Load and cache transformed data:  97%|█████████▋| 7728/8000 [00:35<00:01, 196.43it/s]\u001b[A\n",
      "Load and cache transformed data:  97%|█████████▋| 7748/8000 [00:35<00:01, 196.50it/s]\u001b[A\n",
      "Load and cache transformed data:  97%|█████████▋| 7768/8000 [00:35<00:01, 194.89it/s]\u001b[A\n",
      "Load and cache transformed data:  97%|█████████▋| 7788/8000 [00:36<00:01, 195.97it/s]\u001b[A\n",
      "Load and cache transformed data:  98%|█████████▊| 7808/8000 [00:36<00:00, 196.37it/s]\u001b[A\n",
      "Load and cache transformed data:  98%|█████████▊| 7828/8000 [00:36<00:00, 196.30it/s]\u001b[A\n",
      "Load and cache transformed data:  98%|█████████▊| 7849/8000 [00:36<00:00, 196.07it/s]\u001b[A\n",
      "Load and cache transformed data:  98%|█████████▊| 7870/8000 [00:36<00:00, 198.72it/s]\u001b[A\n",
      "Load and cache transformed data:  99%|█████████▊| 7891/8000 [00:36<00:00, 201.88it/s]\u001b[A\n",
      "Load and cache transformed data:  99%|█████████▉| 7931/8000 [00:36<00:00, 235.73it/s]\u001b[A\n",
      "Load and cache transformed data:  99%|█████████▉| 7957/8000 [00:36<00:00, 231.00it/s]\u001b[A\n",
      "Load and cache transformed data: 100%|██████████| 8000/8000 [00:36<00:00, 216.24it/s]\u001b[A\n",
      "\n",
      "Load and cache transformed data:   0%|          | 0/2000 [00:00<?, ?it/s]\u001b[A\n",
      "Load and cache transformed data:   2%|▏         | 43/2000 [00:00<00:04, 429.05it/s]\u001b[A\n",
      "Load and cache transformed data:   3%|▎         | 64/2000 [00:00<00:05, 325.37it/s]\u001b[A\n",
      "Load and cache transformed data:   4%|▍         | 85/2000 [00:00<00:07, 272.15it/s]\u001b[A\n",
      "Load and cache transformed data:   5%|▌         | 105/2000 [00:00<00:07, 244.03it/s]\u001b[A\n",
      "Load and cache transformed data:   6%|▋         | 125/2000 [00:00<00:08, 227.28it/s]\u001b[A\n",
      "Load and cache transformed data:   7%|▋         | 146/2000 [00:00<00:08, 218.31it/s]\u001b[A\n",
      "Load and cache transformed data:   8%|▊         | 166/2000 [00:00<00:08, 212.30it/s]\u001b[A\n",
      "Load and cache transformed data:   9%|▉         | 187/2000 [00:00<00:08, 210.98it/s]\u001b[A\n",
      "Load and cache transformed data:  10%|█         | 207/2000 [00:00<00:08, 204.28it/s]\u001b[A\n",
      "Load and cache transformed data:  11%|█▏        | 228/2000 [00:01<00:08, 203.50it/s]\u001b[A\n",
      "Load and cache transformed data:  12%|█▏        | 249/2000 [00:01<00:08, 203.54it/s]\u001b[A\n",
      "Load and cache transformed data:  14%|█▎        | 271/2000 [00:01<00:08, 206.47it/s]\u001b[A\n",
      "Load and cache transformed data:  15%|█▍        | 292/2000 [00:01<00:08, 204.39it/s]\u001b[A\n",
      "Load and cache transformed data:  16%|█▌        | 313/2000 [00:01<00:08, 200.78it/s]\u001b[A\n",
      "Load and cache transformed data:  17%|█▋        | 334/2000 [00:01<00:08, 201.59it/s]\u001b[A\n",
      "Load and cache transformed data:  18%|█▊        | 355/2000 [00:01<00:08, 202.23it/s]\u001b[A\n",
      "Load and cache transformed data:  19%|█▉        | 376/2000 [00:01<00:07, 203.39it/s]\u001b[A\n",
      "Load and cache transformed data:  20%|█▉        | 397/2000 [00:01<00:07, 203.71it/s]\u001b[A\n",
      "Load and cache transformed data:  21%|██        | 419/2000 [00:01<00:07, 206.70it/s]\u001b[A\n",
      "Load and cache transformed data:  22%|██▏       | 440/2000 [00:02<00:07, 207.21it/s]\u001b[A\n",
      "Load and cache transformed data:  23%|██▎       | 461/2000 [00:02<00:07, 203.67it/s]\u001b[A\n",
      "Load and cache transformed data:  24%|██▍       | 482/2000 [00:02<00:07, 199.17it/s]\u001b[A\n",
      "Load and cache transformed data:  25%|██▌       | 503/2000 [00:02<00:07, 199.62it/s]\u001b[A\n",
      "Load and cache transformed data:  26%|██▌       | 524/2000 [00:02<00:07, 200.66it/s]\u001b[A\n",
      "Load and cache transformed data:  27%|██▋       | 545/2000 [00:02<00:07, 200.37it/s]\u001b[A\n",
      "Load and cache transformed data:  28%|██▊       | 566/2000 [00:02<00:07, 200.57it/s]\u001b[A\n",
      "Load and cache transformed data:  29%|██▉       | 587/2000 [00:02<00:06, 202.12it/s]\u001b[A\n",
      "Load and cache transformed data:  31%|███▏      | 626/2000 [00:02<00:05, 233.45it/s]\u001b[A\n",
      "Load and cache transformed data:  33%|███▎      | 652/2000 [00:03<00:05, 226.29it/s]\u001b[A\n",
      "Load and cache transformed data:  34%|███▍      | 676/2000 [00:03<00:06, 214.14it/s]\u001b[A\n",
      "Load and cache transformed data:  35%|███▍      | 699/2000 [00:03<00:06, 211.60it/s]\u001b[A\n",
      "Load and cache transformed data:  37%|███▋      | 732/2000 [00:03<00:05, 235.07it/s]\u001b[A\n",
      "Load and cache transformed data:  38%|███▊      | 757/2000 [00:03<00:05, 224.83it/s]\u001b[A\n",
      "Load and cache transformed data:  39%|███▉      | 781/2000 [00:03<00:05, 220.09it/s]\u001b[A\n",
      "Load and cache transformed data:  40%|████      | 804/2000 [00:03<00:05, 214.30it/s]\u001b[A\n",
      "Load and cache transformed data:  41%|████▏     | 826/2000 [00:03<00:05, 209.38it/s]\u001b[A\n",
      "Load and cache transformed data:  42%|████▏     | 848/2000 [00:03<00:05, 205.51it/s]\u001b[A\n",
      "Load and cache transformed data:  44%|████▎     | 870/2000 [00:04<00:05, 207.58it/s]\u001b[A\n",
      "Load and cache transformed data:  45%|████▍     | 891/2000 [00:04<00:05, 203.31it/s]\u001b[A\n",
      "Load and cache transformed data:  46%|████▌     | 912/2000 [00:04<00:05, 203.49it/s]\u001b[A\n",
      "Load and cache transformed data:  47%|████▋     | 933/2000 [00:04<00:05, 201.87it/s]\u001b[A\n",
      "Load and cache transformed data:  48%|████▊     | 954/2000 [00:04<00:05, 203.53it/s]\u001b[A\n",
      "Load and cache transformed data:  49%|████▉     | 975/2000 [00:04<00:05, 201.45it/s]\u001b[A\n",
      "Load and cache transformed data:  50%|████▉     | 996/2000 [00:04<00:04, 201.70it/s]\u001b[A\n",
      "Load and cache transformed data:  51%|█████     | 1017/2000 [00:04<00:04, 203.21it/s]\u001b[A\n",
      "Load and cache transformed data:  52%|█████▏    | 1038/2000 [00:04<00:04, 204.02it/s]\u001b[A\n",
      "Load and cache transformed data:  53%|█████▎    | 1059/2000 [00:04<00:04, 199.84it/s]\u001b[A\n",
      "Load and cache transformed data:  54%|█████▍    | 1080/2000 [00:05<00:04, 201.95it/s]\u001b[A\n",
      "Load and cache transformed data:  55%|█████▌    | 1101/2000 [00:05<00:04, 201.96it/s]\u001b[A\n",
      "Load and cache transformed data:  56%|█████▌    | 1122/2000 [00:05<00:04, 199.94it/s]\u001b[A\n",
      "Load and cache transformed data:  57%|█████▋    | 1143/2000 [00:05<00:04, 199.60it/s]\u001b[A\n",
      "Load and cache transformed data:  58%|█████▊    | 1164/2000 [00:05<00:04, 200.52it/s]\u001b[A\n",
      "Load and cache transformed data:  59%|█████▉    | 1185/2000 [00:05<00:04, 202.84it/s]\u001b[A\n",
      "Load and cache transformed data:  60%|██████    | 1206/2000 [00:05<00:03, 203.01it/s]\u001b[A\n",
      "Load and cache transformed data:  61%|██████▏   | 1227/2000 [00:05<00:03, 198.58it/s]\u001b[A\n",
      "Load and cache transformed data:  62%|██████▏   | 1249/2000 [00:05<00:03, 203.09it/s]\u001b[A\n",
      "Load and cache transformed data:  64%|██████▎   | 1270/2000 [00:06<00:03, 200.30it/s]\u001b[A\n",
      "Load and cache transformed data:  65%|██████▍   | 1291/2000 [00:06<00:03, 199.99it/s]\u001b[A\n",
      "Load and cache transformed data:  66%|██████▌   | 1312/2000 [00:06<00:03, 199.65it/s]\u001b[A\n",
      "Load and cache transformed data:  67%|██████▋   | 1332/2000 [00:06<00:03, 199.15it/s]\u001b[A\n",
      "Load and cache transformed data:  68%|██████▊   | 1353/2000 [00:06<00:03, 200.39it/s]\u001b[A\n",
      "Load and cache transformed data:  69%|██████▊   | 1374/2000 [00:06<00:03, 199.46it/s]\u001b[A\n",
      "Load and cache transformed data:  70%|██████▉   | 1395/2000 [00:06<00:03, 201.03it/s]\u001b[A\n",
      "Load and cache transformed data:  71%|███████   | 1416/2000 [00:06<00:02, 201.85it/s]\u001b[A\n",
      "Load and cache transformed data:  72%|███████▏  | 1437/2000 [00:06<00:02, 201.70it/s]\u001b[A\n",
      "Load and cache transformed data:  73%|███████▎  | 1458/2000 [00:06<00:02, 202.83it/s]\u001b[A\n",
      "Load and cache transformed data:  74%|███████▍  | 1479/2000 [00:07<00:02, 200.75it/s]\u001b[A\n",
      "Load and cache transformed data:  75%|███████▌  | 1500/2000 [00:07<00:02, 198.19it/s]\u001b[A\n",
      "Load and cache transformed data:  76%|███████▌  | 1521/2000 [00:07<00:02, 199.32it/s]\u001b[A\n",
      "Load and cache transformed data:  77%|███████▋  | 1541/2000 [00:07<00:02, 199.22it/s]\u001b[A\n",
      "Load and cache transformed data:  78%|███████▊  | 1562/2000 [00:07<00:02, 201.38it/s]\u001b[A\n",
      "Load and cache transformed data:  79%|███████▉  | 1583/2000 [00:07<00:02, 200.90it/s]\u001b[A\n",
      "Load and cache transformed data:  80%|████████  | 1604/2000 [00:07<00:01, 202.95it/s]\u001b[A\n",
      "Load and cache transformed data:  81%|████████▏ | 1625/2000 [00:07<00:01, 202.51it/s]\u001b[A\n",
      "Load and cache transformed data:  82%|████████▏ | 1646/2000 [00:07<00:01, 203.58it/s]\u001b[A\n",
      "Load and cache transformed data:  83%|████████▎ | 1667/2000 [00:08<00:01, 203.23it/s]\u001b[A\n",
      "Load and cache transformed data:  84%|████████▍ | 1688/2000 [00:08<00:01, 202.11it/s]\u001b[A\n",
      "Load and cache transformed data:  85%|████████▌ | 1709/2000 [00:08<00:01, 202.37it/s]\u001b[A\n",
      "Load and cache transformed data:  86%|████████▋ | 1730/2000 [00:08<00:01, 204.15it/s]\u001b[A\n",
      "Load and cache transformed data:  88%|████████▊ | 1751/2000 [00:08<00:01, 205.05it/s]\u001b[A\n",
      "Load and cache transformed data:  89%|████████▊ | 1772/2000 [00:08<00:01, 204.12it/s]\u001b[A\n",
      "Load and cache transformed data:  90%|████████▉ | 1793/2000 [00:08<00:01, 203.54it/s]\u001b[A\n",
      "Load and cache transformed data:  91%|█████████ | 1814/2000 [00:08<00:00, 200.85it/s]\u001b[A\n",
      "Load and cache transformed data:  92%|█████████▏| 1836/2000 [00:08<00:00, 204.97it/s]\u001b[A\n",
      "Load and cache transformed data:  93%|█████████▎| 1857/2000 [00:08<00:00, 200.22it/s]\u001b[A\n",
      "Load and cache transformed data:  94%|█████████▍| 1878/2000 [00:09<00:00, 200.28it/s]\u001b[A\n",
      "Load and cache transformed data:  95%|█████████▍| 1899/2000 [00:09<00:00, 198.48it/s]\u001b[A\n",
      "Load and cache transformed data:  96%|█████████▌| 1920/2000 [00:09<00:00, 199.62it/s]\u001b[A\n",
      "Load and cache transformed data:  97%|█████████▋| 1940/2000 [00:09<00:00, 197.74it/s]\u001b[A\n",
      "Load and cache transformed data:  98%|█████████▊| 1962/2000 [00:09<00:00, 201.99it/s]\u001b[A\n",
      "Load and cache transformed data: 100%|██████████| 2000/2000 [00:09<00:00, 206.70it/s]\u001b[A\n"
     ]
    }
   ],
   "source": [
    "NoiseLambda = Lambda(lambda d: {\n",
    "    \"orig\":d[\"im\"],\n",
    "    \"gaus\":torch.tensor(random_noise(d[\"im\"], mode='gaussian'), dtype=torch.float32),\n",
    "    \"s&p\":torch.tensor(random_noise(d[\"im\"], mode='s&p', salt_vs_pepper=0.1)),\n",
    "})\n",
    "\n",
    "train_transforms = Compose(\n",
    "    [\n",
    "        LoadImageD(keys=[\"im\"]),\n",
    "        AddChannelD(keys=[\"im\"]),\n",
    "        ScaleIntensityD(keys=[\"im\"]),\n",
    "        RandRotateD(keys=[\"im\"], range_x=np.pi / 12, prob=0.5, keep_size=True),\n",
    "        RandFlipD(keys=[\"im\"], spatial_axis=0, prob=0.5),\n",
    "        RandZoomD(keys=[\"im\"], min_zoom=0.9, max_zoom=1.1, prob=0.5),\n",
    "        ToTensorD(keys=[\"im\"]),\n",
    "        #NoiseLambda,\n",
    "    ]\n",
    ")\n",
    "\n",
    "test_transforms = Compose(\n",
    "    [\n",
    "        LoadImageD(keys=[\"im\"]),\n",
    "        AddChannelD(keys=[\"im\"]),\n",
    "        ScaleIntensityD(keys=[\"im\"]),\n",
    "        ToTensorD(keys=[\"im\"]),\n",
    "        #NoiseLambda,\n",
    "    ]\n",
    ")\n",
    "\n",
    "batch_size = 300\n",
    "num_workers = 10\n",
    "\n",
    "train_ds = CacheDataset(train_datadict, train_transforms, num_workers=num_workers)\n",
    "train_loader = DataLoader(train_ds, batch_size=batch_size, shuffle=True, num_workers=num_workers)\n",
    "test_ds = CacheDataset(test_datadict, test_transforms, num_workers=num_workers)\n",
    "test_loader = DataLoader(test_ds, batch_size=batch_size, shuffle=True, num_workers=num_workers)"
   ]
  },
  {
   "cell_type": "code",
   "execution_count": 12,
   "metadata": {
    "ExecuteTime": {
     "end_time": "2020-12-26T17:29:16.691926Z",
     "start_time": "2020-12-26T17:29:16.673132Z"
    }
   },
   "outputs": [],
   "source": [
    "def train(epoch_num=10, learning_rate=1e-3):\n",
    "    \n",
    "    model = AutoEncoder(\n",
    "        dimensions=2,\n",
    "        in_channels=1,\n",
    "        out_channels=1,\n",
    "        channels=(4, 8, 16, 32),\n",
    "        strides=(2, 2, 2, 2),\n",
    "    ).to(device)\n",
    "    \n",
    "        # Create loss fn and optimiser\n",
    "    loss_function = torch.nn.MSELoss()\n",
    "    optimizer = torch.optim.Adam(model.parameters(), learning_rate)\n",
    "\n",
    "    epoch_loss_values = list()\n",
    "    \n",
    "    t = trange(epoch_num, desc=\" -- epoch 0, avg loss: inf\", leave=True)\n",
    "    for epoch in t:\n",
    "        model.train()\n",
    "        epoch_loss = 0\n",
    "        step = 0\n",
    "        for batch_data in train_loader:        \n",
    "            step += 1\n",
    "            inputs = batch_data['im'].to(device)\n",
    "            optimizer.zero_grad()\n",
    "            outputs = model(inputs)\n",
    "            loss = loss_function(outputs, batch_data['im'].to(device))\n",
    "            loss.backward()\n",
    "            optimizer.step()\n",
    "            epoch_loss += loss.item()\n",
    "            epoch_len = len(train_ds) // train_loader.batch_size\n",
    "        epoch_loss /= step\n",
    "        epoch_loss_values.append(epoch_loss)\n",
    "        t.set_description(f\" -- epoch {epoch + 1}, average loss: {epoch_loss:.4f}\")\n",
    "    return model, epoch_loss_values"
   ]
  },
  {
   "cell_type": "code",
   "execution_count": 13,
   "metadata": {
    "ExecuteTime": {
     "end_time": "2020-12-26T17:30:53.086666Z",
     "start_time": "2020-12-26T17:29:16.697562Z"
    }
   },
   "outputs": [
    {
     "name": "stderr",
     "output_type": "stream",
     "text": [
      "\n",
      " -- epoch 0, avg loss: inf:   0%|          | 0/50 [00:00<?, ?it/s]\u001b[A\n",
      " -- epoch 1, average loss: 0.4744:   0%|          | 0/50 [00:01<?, ?it/s]\u001b[A\n",
      " -- epoch 1, average loss: 0.4744:   2%|▏         | 1/50 [00:01<01:33,  1.91s/it]\u001b[A\n",
      " -- epoch 2, average loss: 0.3035:   2%|▏         | 1/50 [00:03<01:33,  1.91s/it]\u001b[A\n",
      " -- epoch 2, average loss: 0.3035:   4%|▍         | 2/50 [00:03<01:31,  1.91s/it]\u001b[A\n",
      " -- epoch 3, average loss: 0.1985:   4%|▍         | 2/50 [00:05<01:31,  1.91s/it]\u001b[A\n",
      " -- epoch 3, average loss: 0.1985:   6%|▌         | 3/50 [00:05<01:28,  1.88s/it]\u001b[A\n",
      " -- epoch 4, average loss: 0.1308:   6%|▌         | 3/50 [00:07<01:28,  1.88s/it]\u001b[A\n",
      " -- epoch 4, average loss: 0.1308:   8%|▊         | 4/50 [00:07<01:27,  1.90s/it]\u001b[A\n",
      " -- epoch 5, average loss: 0.0892:   8%|▊         | 4/50 [00:09<01:27,  1.90s/it]\u001b[A\n",
      " -- epoch 5, average loss: 0.0892:  10%|█         | 5/50 [00:09<01:25,  1.89s/it]\u001b[A\n",
      " -- epoch 6, average loss: 0.0649:  10%|█         | 5/50 [00:11<01:25,  1.89s/it]\u001b[A\n",
      " -- epoch 6, average loss: 0.0649:  12%|█▏        | 6/50 [00:11<01:22,  1.87s/it]\u001b[A\n",
      " -- epoch 7, average loss: 0.0506:  12%|█▏        | 6/50 [00:13<01:22,  1.87s/it]\u001b[A\n",
      " -- epoch 7, average loss: 0.0506:  14%|█▍        | 7/50 [00:13<01:19,  1.85s/it]\u001b[A\n",
      " -- epoch 8, average loss: 0.0410:  14%|█▍        | 7/50 [00:14<01:19,  1.85s/it]\u001b[A\n",
      " -- epoch 8, average loss: 0.0410:  16%|█▌        | 8/50 [00:14<01:18,  1.88s/it]\u001b[A\n",
      " -- epoch 9, average loss: 0.0338:  16%|█▌        | 8/50 [00:16<01:18,  1.88s/it]\u001b[A\n",
      " -- epoch 9, average loss: 0.0338:  18%|█▊        | 9/50 [00:16<01:17,  1.88s/it]\u001b[A\n",
      " -- epoch 10, average loss: 0.0285:  18%|█▊        | 9/50 [00:18<01:17,  1.88s/it]\u001b[A\n",
      " -- epoch 10, average loss: 0.0285:  20%|██        | 10/50 [00:18<01:15,  1.89s/it]\u001b[A\n",
      " -- epoch 11, average loss: 0.0246:  20%|██        | 10/50 [00:20<01:15,  1.89s/it]\u001b[A\n",
      " -- epoch 11, average loss: 0.0246:  22%|██▏       | 11/50 [00:20<01:13,  1.90s/it]\u001b[A\n",
      " -- epoch 12, average loss: 0.0217:  22%|██▏       | 11/50 [00:22<01:13,  1.90s/it]\u001b[A\n",
      " -- epoch 12, average loss: 0.0217:  24%|██▍       | 12/50 [00:22<01:11,  1.87s/it]\u001b[A\n",
      " -- epoch 13, average loss: 0.0196:  24%|██▍       | 12/50 [00:24<01:11,  1.87s/it]\u001b[A\n",
      " -- epoch 13, average loss: 0.0196:  26%|██▌       | 13/50 [00:24<01:10,  1.90s/it]\u001b[A\n",
      " -- epoch 14, average loss: 0.0180:  26%|██▌       | 13/50 [00:26<01:10,  1.90s/it]\u001b[A\n",
      " -- epoch 14, average loss: 0.0180:  28%|██▊       | 14/50 [00:26<01:07,  1.89s/it]\u001b[A\n",
      " -- epoch 15, average loss: 0.0168:  28%|██▊       | 14/50 [00:28<01:07,  1.89s/it]\u001b[A\n",
      " -- epoch 15, average loss: 0.0168:  30%|███       | 15/50 [00:28<01:06,  1.90s/it]\u001b[A\n",
      " -- epoch 16, average loss: 0.0159:  30%|███       | 15/50 [00:30<01:06,  1.90s/it]\u001b[A\n",
      " -- epoch 16, average loss: 0.0159:  32%|███▏      | 16/50 [00:30<01:04,  1.90s/it]\u001b[A\n",
      " -- epoch 17, average loss: 0.0152:  32%|███▏      | 16/50 [00:32<01:04,  1.90s/it]\u001b[A\n",
      " -- epoch 17, average loss: 0.0152:  34%|███▍      | 17/50 [00:32<01:02,  1.88s/it]\u001b[A\n",
      " -- epoch 18, average loss: 0.0146:  34%|███▍      | 17/50 [00:33<01:02,  1.88s/it]\u001b[A\n",
      " -- epoch 18, average loss: 0.0146:  36%|███▌      | 18/50 [00:33<00:59,  1.86s/it]\u001b[A\n",
      " -- epoch 19, average loss: 0.0142:  36%|███▌      | 18/50 [00:35<00:59,  1.86s/it]\u001b[A\n",
      " -- epoch 19, average loss: 0.0142:  38%|███▊      | 19/50 [00:35<00:58,  1.88s/it]\u001b[A\n",
      " -- epoch 20, average loss: 0.0138:  38%|███▊      | 19/50 [00:37<00:58,  1.88s/it]\u001b[A\n",
      " -- epoch 20, average loss: 0.0138:  40%|████      | 20/50 [00:37<00:56,  1.89s/it]\u001b[A\n",
      " -- epoch 21, average loss: 0.0132:  40%|████      | 20/50 [00:39<00:56,  1.89s/it]\u001b[A\n",
      " -- epoch 21, average loss: 0.0132:  42%|████▏     | 21/50 [00:39<00:55,  1.90s/it]\u001b[A\n",
      " -- epoch 22, average loss: 0.0128:  42%|████▏     | 21/50 [00:41<00:55,  1.90s/it]\u001b[A\n",
      " -- epoch 22, average loss: 0.0128:  44%|████▍     | 22/50 [00:41<00:52,  1.88s/it]\u001b[A\n",
      " -- epoch 23, average loss: 0.0123:  44%|████▍     | 22/50 [00:43<00:52,  1.88s/it]\u001b[A\n",
      " -- epoch 23, average loss: 0.0123:  46%|████▌     | 23/50 [00:43<00:51,  1.91s/it]\u001b[A\n",
      " -- epoch 24, average loss: 0.0117:  46%|████▌     | 23/50 [00:45<00:51,  1.91s/it]\u001b[A\n",
      " -- epoch 24, average loss: 0.0117:  48%|████▊     | 24/50 [00:45<00:49,  1.92s/it]\u001b[A\n",
      " -- epoch 25, average loss: 0.0112:  48%|████▊     | 24/50 [00:47<00:49,  1.92s/it]\u001b[A\n",
      " -- epoch 25, average loss: 0.0112:  50%|█████     | 25/50 [00:47<00:49,  1.97s/it]\u001b[A\n",
      " -- epoch 26, average loss: 0.0108:  50%|█████     | 25/50 [00:49<00:49,  1.97s/it]\u001b[A\n",
      " -- epoch 26, average loss: 0.0108:  52%|█████▏    | 26/50 [00:49<00:48,  2.04s/it]\u001b[A\n",
      " -- epoch 27, average loss: 0.0105:  52%|█████▏    | 26/50 [00:51<00:48,  2.04s/it]\u001b[A\n",
      " -- epoch 27, average loss: 0.0105:  54%|█████▍    | 27/50 [00:51<00:45,  1.99s/it]\u001b[A\n",
      " -- epoch 28, average loss: 0.0101:  54%|█████▍    | 27/50 [00:53<00:45,  1.99s/it]\u001b[A\n",
      " -- epoch 28, average loss: 0.0101:  56%|█████▌    | 28/50 [00:53<00:42,  1.93s/it]\u001b[A\n",
      " -- epoch 29, average loss: 0.0099:  56%|█████▌    | 28/50 [00:55<00:42,  1.93s/it]\u001b[A\n",
      " -- epoch 29, average loss: 0.0099:  58%|█████▊    | 29/50 [00:55<00:40,  1.92s/it]\u001b[A\n",
      " -- epoch 30, average loss: 0.0096:  58%|█████▊    | 29/50 [00:57<00:40,  1.92s/it]\u001b[A\n",
      " -- epoch 30, average loss: 0.0096:  60%|██████    | 30/50 [00:57<00:37,  1.89s/it]\u001b[A\n",
      " -- epoch 31, average loss: 0.0094:  60%|██████    | 30/50 [00:58<00:37,  1.89s/it]\u001b[A\n",
      " -- epoch 31, average loss: 0.0094:  62%|██████▏   | 31/50 [00:58<00:35,  1.88s/it]\u001b[A\n",
      " -- epoch 32, average loss: 0.0092:  62%|██████▏   | 31/50 [01:00<00:35,  1.88s/it]\u001b[A\n",
      " -- epoch 32, average loss: 0.0092:  64%|██████▍   | 32/50 [01:00<00:34,  1.90s/it]\u001b[A\n",
      " -- epoch 33, average loss: 0.0090:  64%|██████▍   | 32/50 [01:02<00:34,  1.90s/it]\u001b[A\n",
      " -- epoch 33, average loss: 0.0090:  66%|██████▌   | 33/50 [01:02<00:32,  1.89s/it]\u001b[A\n",
      " -- epoch 34, average loss: 0.0088:  66%|██████▌   | 33/50 [01:04<00:32,  1.89s/it]\u001b[A\n",
      " -- epoch 34, average loss: 0.0088:  68%|██████▊   | 34/50 [01:04<00:30,  1.89s/it]\u001b[A\n",
      " -- epoch 35, average loss: 0.0087:  68%|██████▊   | 34/50 [01:06<00:30,  1.89s/it]\u001b[A\n",
      " -- epoch 35, average loss: 0.0087:  70%|███████   | 35/50 [01:06<00:28,  1.89s/it]\u001b[A\n",
      " -- epoch 36, average loss: 0.0085:  70%|███████   | 35/50 [01:08<00:28,  1.89s/it]\u001b[A\n",
      " -- epoch 36, average loss: 0.0085:  72%|███████▏  | 36/50 [01:08<00:26,  1.87s/it]\u001b[A\n",
      " -- epoch 37, average loss: 0.0083:  72%|███████▏  | 36/50 [01:10<00:26,  1.87s/it]\u001b[A\n",
      " -- epoch 37, average loss: 0.0083:  74%|███████▍  | 37/50 [01:10<00:24,  1.87s/it]\u001b[A\n",
      " -- epoch 38, average loss: 0.0082:  74%|███████▍  | 37/50 [01:12<00:24,  1.87s/it]\u001b[A\n",
      " -- epoch 38, average loss: 0.0082:  76%|███████▌  | 38/50 [01:12<00:22,  1.88s/it]\u001b[A\n",
      " -- epoch 39, average loss: 0.0080:  76%|███████▌  | 38/50 [01:14<00:22,  1.88s/it]\u001b[A\n",
      " -- epoch 39, average loss: 0.0080:  78%|███████▊  | 39/50 [01:14<00:20,  1.89s/it]\u001b[A\n",
      " -- epoch 40, average loss: 0.0079:  78%|███████▊  | 39/50 [01:15<00:20,  1.89s/it]\u001b[A\n",
      " -- epoch 40, average loss: 0.0079:  80%|████████  | 40/50 [01:15<00:18,  1.89s/it]\u001b[A\n",
      " -- epoch 41, average loss: 0.0078:  80%|████████  | 40/50 [01:17<00:18,  1.89s/it]\u001b[A\n",
      " -- epoch 41, average loss: 0.0078:  82%|████████▏ | 41/50 [01:17<00:17,  1.90s/it]\u001b[A\n",
      " -- epoch 42, average loss: 0.0077:  82%|████████▏ | 41/50 [01:19<00:17,  1.90s/it]\u001b[A\n",
      " -- epoch 42, average loss: 0.0077:  84%|████████▍ | 42/50 [01:19<00:15,  1.90s/it]\u001b[A\n",
      " -- epoch 43, average loss: 0.0075:  84%|████████▍ | 42/50 [01:21<00:15,  1.90s/it]\u001b[A\n",
      " -- epoch 43, average loss: 0.0075:  86%|████████▌ | 43/50 [01:21<00:13,  1.90s/it]\u001b[A\n",
      " -- epoch 44, average loss: 0.0074:  86%|████████▌ | 43/50 [01:23<00:13,  1.90s/it]\u001b[A\n",
      " -- epoch 44, average loss: 0.0074:  88%|████████▊ | 44/50 [01:23<00:11,  1.90s/it]\u001b[A\n",
      " -- epoch 45, average loss: 0.0074:  88%|████████▊ | 44/50 [01:25<00:11,  1.90s/it]\u001b[A\n",
      " -- epoch 45, average loss: 0.0074:  90%|█████████ | 45/50 [01:25<00:09,  1.88s/it]\u001b[A\n",
      " -- epoch 46, average loss: 0.0073:  90%|█████████ | 45/50 [01:27<00:09,  1.88s/it]\u001b[A\n",
      " -- epoch 46, average loss: 0.0073:  92%|█████████▏| 46/50 [01:27<00:07,  1.88s/it]\u001b[A\n",
      " -- epoch 47, average loss: 0.0072:  92%|█████████▏| 46/50 [01:29<00:07,  1.88s/it]\u001b[A\n",
      " -- epoch 47, average loss: 0.0072:  94%|█████████▍| 47/50 [01:29<00:05,  1.89s/it]\u001b[A\n",
      " -- epoch 48, average loss: 0.0071:  94%|█████████▍| 47/50 [01:31<00:05,  1.89s/it]\u001b[A\n",
      " -- epoch 48, average loss: 0.0071:  96%|█████████▌| 48/50 [01:31<00:03,  1.89s/it]\u001b[A\n",
      " -- epoch 49, average loss: 0.0070:  96%|█████████▌| 48/50 [01:32<00:03,  1.89s/it]\u001b[A\n",
      " -- epoch 49, average loss: 0.0070:  98%|█████████▊| 49/50 [01:32<00:01,  1.89s/it]\u001b[A\n",
      " -- epoch 50, average loss: 0.0069:  98%|█████████▊| 49/50 [01:34<00:01,  1.89s/it]\u001b[A\n",
      " -- epoch 50, average loss: 0.0069: 100%|██████████| 50/50 [01:34<00:00,  1.90s/it]\u001b[A\n"
     ]
    }
   ],
   "source": [
    "epoch_num = 50\n",
    "models = []\n",
    "epoch_losses = []\n",
    "\n",
    "model, epoch_loss = train( epoch_num=epoch_num)\n",
    "models.append(model)\n",
    "epoch_losses.append(epoch_loss)"
   ]
  },
  {
   "cell_type": "code",
   "execution_count": 14,
   "metadata": {
    "ExecuteTime": {
     "end_time": "2020-12-26T17:30:53.218654Z",
     "start_time": "2020-12-26T17:30:53.087772Z"
    }
   },
   "outputs": [
    {
     "data": {
      "text/plain": [
       "[<matplotlib.lines.Line2D at 0x7f4095e17a90>]"
      ]
     },
     "execution_count": 14,
     "metadata": {},
     "output_type": "execute_result"
    },
    {
     "data": {
      "image/png": "[encoded data removed]",
      "text/plain": [
       "<Figure size 1080x720 with 1 Axes>"
      ]
     },
     "metadata": {
      "needs_background": "light"
     },
     "output_type": "display_data"
    }
   ],
   "source": [
    "_, ax = plt.subplots(1,1,figsize=(15,10))\n",
    "ax.set_title('Loss')\n",
    "ax.plot(epoch_losses[0])"
   ]
  },
  {
   "cell_type": "code",
   "execution_count": 15,
   "metadata": {
    "ExecuteTime": {
     "end_time": "2020-12-26T17:30:53.221916Z",
     "start_time": "2020-12-26T17:30:53.219650Z"
    }
   },
   "outputs": [],
   "source": [
    "# Get image original and its degraded versions\n",
    "def get_single_im(ds):\n",
    "    loader = torch.utils.data.DataLoader(ds, batch_size=1, num_workers=10, shuffle=True)\n",
    "    itera = iter(loader)\n",
    "    return next(itera)"
   ]
  },
  {
   "cell_type": "code",
   "execution_count": 16,
   "metadata": {
    "ExecuteTime": {
     "end_time": "2020-12-26T17:30:53.602002Z",
     "start_time": "2020-12-26T17:30:53.222922Z"
    }
   },
   "outputs": [
    {
     "data": {
      "image/png": "[encoded data removed]",
      "text/plain": [
       "<Figure size 720x720 with 2 Axes>"
      ]
     },
     "metadata": {
      "needs_background": "light"
     },
     "output_type": "display_data"
    }
   ],
   "source": [
    "data = get_single_im(test_ds)\n",
    "\n",
    "model.eval()\n",
    "recons = []\n",
    "im = data['im']\n",
    "recon = model(im.to(device)).detach().cpu()\n",
    "recons.append(recon)\n",
    "\n",
    "plot_ims(\n",
    "    [im] + [recons[0]], \n",
    "    titles=['orig'] + [\"recon\"] ,\n",
    "    shape=(2,1))"
   ]
  },
  {
   "cell_type": "markdown",
   "metadata": {},
   "source": [
    "## Test by other dataset"
   ]
  },
  {
   "cell_type": "code",
   "execution_count": 17,
   "metadata": {
    "ExecuteTime": {
     "end_time": "2020-12-26T17:30:53.885751Z",
     "start_time": "2020-12-26T17:30:53.603174Z"
    }
   },
   "outputs": [
    {
     "data": {
      "image/png": "[encoded data removed]",
      "text/plain": [
       "<Figure size 720x720 with 8 Axes>"
      ]
     },
     "metadata": {
      "needs_background": "light"
     },
     "output_type": "display_data"
    }
   ],
   "source": [
    "scan_type = \"Hand\" # could be  AbdomenCT  BreastMRI  CXR  ChestCT  Hand  HeadCT\n",
    "im_dir = os.path.join(data_dir, scan_type)\n",
    "all_filenames = [os.path.join(im_dir, filename) for filename in os.listdir(im_dir)]\n",
    "random.shuffle(all_filenames)\n",
    "\n",
    "# Visualise a few of them\n",
    "rand_images = np.random.choice(all_filenames, 8, replace=False)\n",
    "plot_ims(rand_images, shape=(2,4))"
   ]
  },
  {
   "cell_type": "code",
   "execution_count": 18,
   "metadata": {
    "ExecuteTime": {
     "end_time": "2020-12-26T17:30:53.891420Z",
     "start_time": "2020-12-26T17:30:53.887482Z"
    }
   },
   "outputs": [
    {
     "name": "stdout",
     "output_type": "stream",
     "text": [
      "total number of images: 10000\n"
     ]
    }
   ],
   "source": [
    "hand_datadict = [{\"im\": fname} for fname in all_filenames]\n",
    "print(f\"total number of images: {len(all_filenames)}\")"
   ]
  },
  {
   "cell_type": "code",
   "execution_count": 19,
   "metadata": {
    "ExecuteTime": {
     "end_time": "2020-12-26T17:30:53.899299Z",
     "start_time": "2020-12-26T17:30:53.892657Z"
    }
   },
   "outputs": [
    {
     "name": "stdout",
     "output_type": "stream",
     "text": [
      "total number of images: 2000\n"
     ]
    }
   ],
   "source": [
    "print(f\"total number of images: {len(test_datadict)}\")"
   ]
  },
  {
   "cell_type": "code",
   "execution_count": 52,
   "metadata": {
    "ExecuteTime": {
     "end_time": "2020-12-08T16:36:17.439568Z",
     "start_time": "2020-12-08T16:36:17.433699Z"
    }
   },
   "outputs": [],
   "source": [
    "#new_test_datadict=hand_datadict+test_datadict"
   ]
  },
  {
   "cell_type": "code",
   "execution_count": 53,
   "metadata": {
    "ExecuteTime": {
     "end_time": "2020-12-08T16:36:19.060376Z",
     "start_time": "2020-12-08T16:36:19.055700Z"
    }
   },
   "outputs": [
    {
     "name": "stdout",
     "output_type": "stream",
     "text": [
      "total number of images: 12000\n"
     ]
    }
   ],
   "source": [
    "#print(f\"total number of images: {len(new_test_datadict)}\")"
   ]
  },
  {
   "cell_type": "code",
   "execution_count": 20,
   "metadata": {
    "ExecuteTime": {
     "end_time": "2020-12-26T17:31:42.995596Z",
     "start_time": "2020-12-26T17:30:53.900180Z"
    }
   },
   "outputs": [
    {
     "name": "stderr",
     "output_type": "stream",
     "text": [
      "\n",
      "Load and cache transformed data:   0%|          | 0/10000 [00:00<?, ?it/s]\u001b[A\n",
      "Load and cache transformed data:   1%|          | 77/10000 [00:00<00:12, 767.56it/s]\u001b[A\n",
      "Load and cache transformed data:   1%|▏         | 126/10000 [00:00<00:15, 645.08it/s]\u001b[A\n",
      "Load and cache transformed data:   2%|▏         | 157/10000 [00:00<00:25, 382.12it/s]\u001b[A\n",
      "Load and cache transformed data:   2%|▏         | 185/10000 [00:00<00:32, 299.43it/s]\u001b[A\n",
      "Load and cache transformed data:   2%|▏         | 210/10000 [00:00<00:37, 262.87it/s]\u001b[A\n",
      "Load and cache transformed data:   2%|▏         | 234/10000 [00:00<00:41, 234.53it/s]\u001b[A\n",
      "Load and cache transformed data:   3%|▎         | 257/10000 [00:00<00:44, 220.17it/s]\u001b[A\n",
      "Load and cache transformed data:   3%|▎         | 279/10000 [00:00<00:45, 212.41it/s]\u001b[A\n",
      "Load and cache transformed data:   3%|▎         | 300/10000 [00:01<00:46, 206.60it/s]\u001b[A\n",
      "Load and cache transformed data:   3%|▎         | 321/10000 [00:01<00:47, 202.68it/s]\u001b[A\n",
      "Load and cache transformed data:   3%|▎         | 342/10000 [00:01<00:48, 199.01it/s]\u001b[A\n",
      "Load and cache transformed data:   4%|▎         | 362/10000 [00:01<00:48, 197.57it/s]\u001b[A\n",
      "Load and cache transformed data:   4%|▍         | 382/10000 [00:01<00:48, 197.26it/s]\u001b[A\n",
      "Load and cache transformed data:   4%|▍         | 402/10000 [00:01<00:48, 196.24it/s]\u001b[A\n",
      "Load and cache transformed data:   4%|▍         | 422/10000 [00:01<00:48, 196.89it/s]\u001b[A\n",
      "Load and cache transformed data:   4%|▍         | 442/10000 [00:01<00:49, 194.80it/s]\u001b[A\n",
      "Load and cache transformed data:   5%|▍         | 462/10000 [00:01<00:48, 194.98it/s]\u001b[A\n",
      "Load and cache transformed data:   5%|▍         | 483/10000 [00:02<00:48, 195.71it/s]\u001b[A\n",
      "Load and cache transformed data:   5%|▌         | 504/10000 [00:02<00:47, 199.22it/s]\u001b[A\n",
      "Load and cache transformed data:   5%|▌         | 524/10000 [00:02<00:48, 193.95it/s]\u001b[A\n",
      "Load and cache transformed data:   5%|▌         | 544/10000 [00:02<00:49, 192.42it/s]\u001b[A\n",
      "Load and cache transformed data:   6%|▌         | 564/10000 [00:02<00:48, 193.33it/s]\u001b[A\n",
      "Load and cache transformed data:   6%|▌         | 584/10000 [00:02<00:48, 192.98it/s]\u001b[A\n",
      "Load and cache transformed data:   6%|▌         | 604/10000 [00:02<00:48, 194.82it/s]\u001b[A\n",
      "Load and cache transformed data:   6%|▌         | 624/10000 [00:02<00:48, 194.86it/s]\u001b[A\n",
      "Load and cache transformed data:   6%|▋         | 645/10000 [00:02<00:47, 197.57it/s]\u001b[A\n",
      "Load and cache transformed data:   7%|▋         | 683/10000 [00:02<00:40, 229.18it/s]\u001b[A\n",
      "Load and cache transformed data:   7%|▋         | 708/10000 [00:03<00:42, 217.93it/s]\u001b[A\n",
      "Load and cache transformed data:   7%|▋         | 732/10000 [00:03<00:43, 213.86it/s]\u001b[A\n",
      "Load and cache transformed data:   8%|▊         | 755/10000 [00:03<00:44, 208.14it/s]\u001b[A\n",
      "Load and cache transformed data:   8%|▊         | 777/10000 [00:03<00:45, 204.17it/s]\u001b[A\n",
      "Load and cache transformed data:   8%|▊         | 798/10000 [00:03<00:45, 202.84it/s]\u001b[A\n",
      "Load and cache transformed data:   8%|▊         | 819/10000 [00:03<00:45, 200.26it/s]\u001b[A\n",
      "Load and cache transformed data:   8%|▊         | 840/10000 [00:03<00:46, 198.26it/s]\u001b[A\n",
      "Load and cache transformed data:   9%|▊         | 862/10000 [00:03<00:45, 201.40it/s]\u001b[A\n",
      "Load and cache transformed data:   9%|▉         | 883/10000 [00:03<00:46, 197.95it/s]\u001b[A\n",
      "Load and cache transformed data:   9%|▉         | 903/10000 [00:04<00:46, 197.06it/s]\u001b[A\n",
      "Load and cache transformed data:   9%|▉         | 924/10000 [00:04<00:46, 196.96it/s]\u001b[A\n",
      "Load and cache transformed data:   9%|▉         | 945/10000 [00:04<00:45, 199.39it/s]\u001b[A\n",
      "Load and cache transformed data:  10%|▉         | 965/10000 [00:04<00:45, 198.84it/s]\u001b[A\n",
      "Load and cache transformed data:  10%|▉         | 985/10000 [00:04<00:46, 194.96it/s]\u001b[A\n",
      "Load and cache transformed data:  10%|█         | 1006/10000 [00:04<00:45, 195.89it/s]\u001b[A\n",
      "Load and cache transformed data:  10%|█         | 1026/10000 [00:04<00:45, 196.68it/s]\u001b[A\n",
      "Load and cache transformed data:  10%|█         | 1046/10000 [00:04<00:46, 191.47it/s]\u001b[A\n",
      "Load and cache transformed data:  11%|█         | 1083/10000 [00:04<00:40, 222.84it/s]\u001b[A\n",
      "Load and cache transformed data:  11%|█         | 1108/10000 [00:05<00:41, 214.06it/s]\u001b[A\n",
      "Load and cache transformed data:  11%|█▏        | 1131/10000 [00:05<00:42, 209.49it/s]\u001b[A\n",
      "Load and cache transformed data:  12%|█▏        | 1153/10000 [00:05<00:42, 206.57it/s]\u001b[A\n",
      "Load and cache transformed data:  12%|█▏        | 1175/10000 [00:05<00:43, 203.06it/s]\u001b[A\n",
      "Load and cache transformed data:  12%|█▏        | 1196/10000 [00:05<00:43, 202.41it/s]\u001b[A\n",
      "Load and cache transformed data:  12%|█▏        | 1217/10000 [00:05<00:43, 200.68it/s]\u001b[A\n",
      "Load and cache transformed data:  12%|█▏        | 1238/10000 [00:05<00:43, 200.47it/s]\u001b[A\n",
      "Load and cache transformed data:  13%|█▎        | 1259/10000 [00:05<00:43, 199.54it/s]\u001b[A\n",
      "Load and cache transformed data:  13%|█▎        | 1280/10000 [00:05<00:43, 200.46it/s]\u001b[A\n",
      "Load and cache transformed data:  13%|█▎        | 1301/10000 [00:06<00:43, 199.02it/s]\u001b[A\n",
      "Load and cache transformed data:  13%|█▎        | 1321/10000 [00:06<00:44, 196.51it/s]\u001b[A\n",
      "Load and cache transformed data:  13%|█▎        | 1341/10000 [00:06<00:44, 195.24it/s]\u001b[A\n",
      "Load and cache transformed data:  14%|█▎        | 1361/10000 [00:06<00:44, 194.86it/s]\u001b[A\n",
      "Load and cache transformed data:  14%|█▍        | 1381/10000 [00:06<00:44, 193.90it/s]\u001b[A\n",
      "Load and cache transformed data:  14%|█▍        | 1401/10000 [00:06<00:43, 195.62it/s]\u001b[A\n",
      "Load and cache transformed data:  14%|█▍        | 1421/10000 [00:06<00:43, 195.94it/s]\u001b[A\n",
      "Load and cache transformed data:  14%|█▍        | 1441/10000 [00:06<00:43, 194.93it/s]\u001b[A\n",
      "Load and cache transformed data:  15%|█▍        | 1462/10000 [00:06<00:43, 197.02it/s]\u001b[A\n",
      "Load and cache transformed data:  15%|█▍        | 1482/10000 [00:06<00:43, 195.19it/s]\u001b[A\n",
      "Load and cache transformed data:  15%|█▌        | 1502/10000 [00:07<00:43, 194.46it/s]\u001b[A\n",
      "Load and cache transformed data:  15%|█▌        | 1522/10000 [00:07<00:43, 195.15it/s]\u001b[A\n",
      "Load and cache transformed data:  15%|█▌        | 1542/10000 [00:07<00:43, 194.98it/s]\u001b[A\n",
      "Load and cache transformed data:  16%|█▌        | 1563/10000 [00:07<00:42, 198.47it/s]\u001b[A\n",
      "Load and cache transformed data:  16%|█▌        | 1583/10000 [00:07<00:43, 194.09it/s]\u001b[A\n",
      "Load and cache transformed data:  16%|█▌        | 1604/10000 [00:07<00:42, 198.05it/s]\u001b[A\n",
      "Load and cache transformed data:  16%|█▋        | 1626/10000 [00:07<00:41, 204.08it/s]\u001b[A\n",
      "Load and cache transformed data:  17%|█▋        | 1661/10000 [00:07<00:36, 231.48it/s]\u001b[A\n",
      "Load and cache transformed data:  17%|█▋        | 1686/10000 [00:07<00:36, 229.76it/s]\u001b[A\n",
      "Load and cache transformed data:  17%|█▋        | 1720/10000 [00:07<00:32, 253.99it/s]\u001b[A\n",
      "Load and cache transformed data:  17%|█▋        | 1747/10000 [00:08<00:35, 235.02it/s]\u001b[A\n",
      "Load and cache transformed data:  18%|█▊        | 1772/10000 [00:08<00:36, 223.31it/s]\u001b[A\n",
      "Load and cache transformed data:  18%|█▊        | 1796/10000 [00:08<00:37, 219.56it/s]\u001b[A\n",
      "Load and cache transformed data:  18%|█▊        | 1819/10000 [00:08<00:39, 207.79it/s]\u001b[A\n",
      "Load and cache transformed data:  18%|█▊        | 1841/10000 [00:08<00:39, 206.03it/s]\u001b[A\n",
      "Load and cache transformed data:  19%|█▊        | 1863/10000 [00:08<00:39, 206.28it/s]\u001b[A\n",
      "Load and cache transformed data:  19%|█▉        | 1884/10000 [00:08<00:40, 199.74it/s]\u001b[A\n",
      "Load and cache transformed data:  19%|█▉        | 1905/10000 [00:08<00:40, 199.02it/s]\u001b[A\n",
      "Load and cache transformed data:  19%|█▉        | 1926/10000 [00:09<00:39, 202.13it/s]\u001b[A\n",
      "Load and cache transformed data:  19%|█▉        | 1947/10000 [00:09<00:40, 199.25it/s]\u001b[A\n",
      "Load and cache transformed data:  20%|█▉        | 1968/10000 [00:09<00:41, 195.00it/s]\u001b[A\n",
      "Load and cache transformed data:  20%|█▉        | 1988/10000 [00:09<00:41, 194.79it/s]\u001b[A\n",
      "Load and cache transformed data:  20%|██        | 2008/10000 [00:09<00:40, 195.74it/s]\u001b[A\n",
      "Load and cache transformed data:  20%|██        | 2028/10000 [00:09<00:40, 196.29it/s]\u001b[A\n",
      "Load and cache transformed data:  20%|██        | 2048/10000 [00:09<00:40, 196.14it/s]\u001b[A\n",
      "Load and cache transformed data:  21%|██        | 2069/10000 [00:09<00:39, 199.98it/s]\u001b[A\n",
      "Load and cache transformed data:  21%|██        | 2090/10000 [00:09<00:39, 199.14it/s]\u001b[A\n",
      "Load and cache transformed data:  21%|██        | 2110/10000 [00:09<00:40, 195.28it/s]\u001b[A\n",
      "Load and cache transformed data:  21%|██▏       | 2130/10000 [00:10<00:40, 195.79it/s]\u001b[A\n",
      "Load and cache transformed data:  22%|██▏       | 2150/10000 [00:10<00:39, 196.54it/s]\u001b[A\n",
      "Load and cache transformed data:  22%|██▏       | 2170/10000 [00:10<00:40, 192.63it/s]\u001b[A\n",
      "Load and cache transformed data:  22%|██▏       | 2190/10000 [00:10<00:40, 194.40it/s]\u001b[A\n",
      "Load and cache transformed data:  22%|██▏       | 2211/10000 [00:10<00:39, 198.35it/s]\u001b[A\n",
      "Load and cache transformed data:  22%|██▏       | 2231/10000 [00:10<00:39, 194.28it/s]\u001b[A\n",
      "Load and cache transformed data:  23%|██▎       | 2252/10000 [00:10<00:39, 194.93it/s]\u001b[A\n",
      "Load and cache transformed data:  23%|██▎       | 2273/10000 [00:10<00:39, 197.02it/s]\u001b[A\n",
      "Load and cache transformed data:  23%|██▎       | 2293/10000 [00:10<00:39, 194.40it/s]\u001b[A\n",
      "Load and cache transformed data:  23%|██▎       | 2314/10000 [00:11<00:38, 198.28it/s]\u001b[A\n",
      "Load and cache transformed data:  23%|██▎       | 2334/10000 [00:11<00:39, 195.63it/s]\u001b[A\n",
      "Load and cache transformed data:  24%|██▎       | 2355/10000 [00:11<00:38, 197.29it/s]\u001b[A\n",
      "Load and cache transformed data:  24%|██▍       | 2376/10000 [00:11<00:38, 199.13it/s]\u001b[A\n",
      "Load and cache transformed data:  24%|██▍       | 2396/10000 [00:11<00:38, 195.71it/s]\u001b[A\n",
      "Load and cache transformed data:  24%|██▍       | 2416/10000 [00:11<00:38, 196.00it/s]\u001b[A\n",
      "Load and cache transformed data:  24%|██▍       | 2437/10000 [00:11<00:37, 199.27it/s]\u001b[A\n",
      "Load and cache transformed data:  25%|██▍       | 2457/10000 [00:11<00:38, 194.95it/s]\u001b[A\n",
      "Load and cache transformed data:  25%|██▍       | 2478/10000 [00:11<00:37, 198.78it/s]\u001b[A\n",
      "Load and cache transformed data:  25%|██▍       | 2498/10000 [00:11<00:38, 194.65it/s]\u001b[A\n",
      "Load and cache transformed data:  25%|██▌       | 2518/10000 [00:12<00:38, 194.88it/s]\u001b[A\n",
      "Load and cache transformed data:  25%|██▌       | 2538/10000 [00:12<00:38, 193.36it/s]\u001b[A\n",
      "Load and cache transformed data:  26%|██▌       | 2558/10000 [00:12<00:38, 194.56it/s]\u001b[A\n",
      "Load and cache transformed data:  26%|██▌       | 2578/10000 [00:12<00:38, 195.25it/s]\u001b[A\n",
      "Load and cache transformed data:  26%|██▌       | 2599/10000 [00:12<00:37, 198.89it/s]\u001b[A\n",
      "Load and cache transformed data:  26%|██▌       | 2619/10000 [00:12<00:37, 195.77it/s]\u001b[A\n",
      "Load and cache transformed data:  26%|██▋       | 2640/10000 [00:12<00:37, 197.71it/s]\u001b[A\n",
      "Load and cache transformed data:  27%|██▋       | 2661/10000 [00:12<00:37, 197.94it/s]\u001b[A\n",
      "Load and cache transformed data:  27%|██▋       | 2682/10000 [00:12<00:37, 196.43it/s]\u001b[A\n",
      "Load and cache transformed data:  27%|██▋       | 2702/10000 [00:12<00:37, 196.76it/s]\u001b[A\n",
      "Load and cache transformed data:  27%|██▋       | 2722/10000 [00:13<00:37, 195.19it/s]\u001b[A\n",
      "Load and cache transformed data:  27%|██▋       | 2743/10000 [00:13<00:36, 198.96it/s]\u001b[A\n",
      "Load and cache transformed data:  28%|██▊       | 2764/10000 [00:13<00:36, 200.81it/s]\u001b[A\n",
      "Load and cache transformed data:  28%|██▊       | 2785/10000 [00:13<00:36, 196.74it/s]\u001b[A\n",
      "Load and cache transformed data:  28%|██▊       | 2805/10000 [00:13<00:36, 196.64it/s]\u001b[A\n",
      "Load and cache transformed data:  28%|██▊       | 2826/10000 [00:13<00:36, 196.19it/s]\u001b[A\n",
      "Load and cache transformed data:  28%|██▊       | 2846/10000 [00:13<00:36, 195.77it/s]\u001b[A\n",
      "Load and cache transformed data:  29%|██▊       | 2866/10000 [00:13<00:36, 196.05it/s]\u001b[A\n",
      "Load and cache transformed data:  29%|██▉       | 2887/10000 [00:13<00:36, 197.53it/s]\u001b[A\n",
      "Load and cache transformed data:  29%|██▉       | 2909/10000 [00:14<00:35, 198.65it/s]\u001b[A\n",
      "Load and cache transformed data:  29%|██▉       | 2930/10000 [00:14<00:35, 199.23it/s]\u001b[A\n",
      "Load and cache transformed data:  30%|██▉       | 2950/10000 [00:14<00:35, 198.33it/s]\u001b[A\n",
      "Load and cache transformed data:  30%|██▉       | 2970/10000 [00:14<00:35, 197.11it/s]\u001b[A\n",
      "Load and cache transformed data:  30%|██▉       | 2991/10000 [00:14<00:35, 199.84it/s]\u001b[A\n",
      "Load and cache transformed data:  30%|███       | 3011/10000 [00:14<00:35, 196.15it/s]\u001b[A\n",
      "Load and cache transformed data:  30%|███       | 3031/10000 [00:14<00:35, 196.82it/s]\u001b[A\n",
      "Load and cache transformed data:  31%|███       | 3051/10000 [00:14<00:35, 197.50it/s]\u001b[A\n",
      "Load and cache transformed data:  31%|███       | 3071/10000 [00:14<00:35, 197.53it/s]\u001b[A\n",
      "Load and cache transformed data:  31%|███       | 3093/10000 [00:14<00:35, 196.63it/s]\u001b[A\n",
      "Load and cache transformed data:  31%|███       | 3113/10000 [00:15<00:35, 193.60it/s]\u001b[A\n",
      "Load and cache transformed data:  31%|███▏      | 3133/10000 [00:15<00:35, 193.90it/s]\u001b[A\n",
      "Load and cache transformed data:  32%|███▏      | 3153/10000 [00:15<00:35, 194.11it/s]\u001b[A\n",
      "Load and cache transformed data:  32%|███▏      | 3173/10000 [00:15<00:34, 195.23it/s]\u001b[A\n",
      "Load and cache transformed data:  32%|███▏      | 3198/10000 [00:15<00:32, 207.59it/s]\u001b[A\n",
      "Load and cache transformed data:  32%|███▏      | 3219/10000 [00:15<00:33, 203.56it/s]\u001b[A\n",
      "Load and cache transformed data:  32%|███▏      | 3240/10000 [00:15<00:33, 204.72it/s]\u001b[A\n",
      "Load and cache transformed data:  33%|███▎      | 3261/10000 [00:15<00:33, 200.97it/s]\u001b[A\n",
      "Load and cache transformed data:  33%|███▎      | 3282/10000 [00:15<00:33, 202.98it/s]\u001b[A\n",
      "Load and cache transformed data:  33%|███▎      | 3303/10000 [00:15<00:33, 199.66it/s]\u001b[A\n",
      "Load and cache transformed data:  33%|███▎      | 3333/10000 [00:16<00:30, 221.86it/s]\u001b[A\n",
      "Load and cache transformed data:  34%|███▍      | 3410/10000 [00:16<00:23, 282.09it/s]\u001b[A\n",
      "Load and cache transformed data:  34%|███▍      | 3450/10000 [00:16<00:25, 260.79it/s]\u001b[A\n",
      "Load and cache transformed data:  35%|███▍      | 3485/10000 [00:16<00:25, 259.47it/s]\u001b[A\n",
      "Load and cache transformed data:  35%|███▌      | 3517/10000 [00:16<00:27, 237.87it/s]\u001b[A\n",
      "Load and cache transformed data:  35%|███▌      | 3546/10000 [00:16<00:29, 222.13it/s]\u001b[A\n",
      "Load and cache transformed data:  36%|███▌      | 3572/10000 [00:16<00:29, 214.61it/s]\u001b[A\n",
      "Load and cache transformed data:  36%|███▌      | 3596/10000 [00:17<00:30, 208.87it/s]\u001b[A\n",
      "Load and cache transformed data:  36%|███▌      | 3619/10000 [00:17<00:30, 208.58it/s]\u001b[A\n",
      "Load and cache transformed data:  36%|███▋      | 3642/10000 [00:17<00:31, 201.68it/s]\u001b[A\n",
      "Load and cache transformed data:  37%|███▋      | 3664/10000 [00:17<00:31, 204.22it/s]\u001b[A\n",
      "Load and cache transformed data:  37%|███▋      | 3686/10000 [00:17<00:31, 200.32it/s]\u001b[A\n",
      "Load and cache transformed data:  37%|███▋      | 3707/10000 [00:17<00:31, 199.80it/s]\u001b[A\n",
      "Load and cache transformed data:  37%|███▋      | 3728/10000 [00:17<00:31, 201.48it/s]\u001b[A\n",
      "Load and cache transformed data:  37%|███▋      | 3749/10000 [00:17<00:31, 196.44it/s]\u001b[A\n",
      "Load and cache transformed data:  38%|███▊      | 3769/10000 [00:17<00:31, 196.13it/s]\u001b[A\n",
      "Load and cache transformed data:  38%|███▊      | 3789/10000 [00:18<00:31, 196.46it/s]\u001b[A\n",
      "Load and cache transformed data:  38%|███▊      | 3809/10000 [00:18<00:31, 195.71it/s]\u001b[A\n",
      "Load and cache transformed data:  38%|███▊      | 3829/10000 [00:18<00:31, 195.72it/s]\u001b[A\n",
      "Load and cache transformed data:  38%|███▊      | 3850/10000 [00:18<00:31, 197.48it/s]\u001b[A\n",
      "Load and cache transformed data:  39%|███▊      | 3870/10000 [00:18<00:31, 197.02it/s]\u001b[A\n",
      "Load and cache transformed data:  39%|███▉      | 3890/10000 [00:18<00:31, 196.66it/s]\u001b[A\n",
      "Load and cache transformed data:  39%|███▉      | 3910/10000 [00:18<00:30, 197.07it/s]\u001b[A\n",
      "Load and cache transformed data:  39%|███▉      | 3932/10000 [00:18<00:30, 196.58it/s]\u001b[A\n",
      "Load and cache transformed data:  40%|███▉      | 3952/10000 [00:18<00:30, 196.93it/s]\u001b[A\n",
      "Load and cache transformed data:  40%|███▉      | 3973/10000 [00:18<00:30, 197.54it/s]\u001b[A\n",
      "Load and cache transformed data:  40%|███▉      | 3993/10000 [00:19<00:30, 196.57it/s]\u001b[A\n",
      "Load and cache transformed data:  40%|████      | 4013/10000 [00:19<00:30, 196.24it/s]\u001b[A\n",
      "Load and cache transformed data:  40%|████      | 4033/10000 [00:19<00:30, 196.95it/s]\u001b[A\n",
      "Load and cache transformed data:  41%|████      | 4053/10000 [00:19<00:30, 197.55it/s]\u001b[A\n",
      "Load and cache transformed data:  41%|████      | 4074/10000 [00:19<00:30, 197.22it/s]\u001b[A\n",
      "Load and cache transformed data:  41%|████      | 4094/10000 [00:19<00:29, 197.41it/s]\u001b[A\n",
      "Load and cache transformed data:  41%|████      | 4115/10000 [00:19<00:29, 200.24it/s]\u001b[A\n",
      "Load and cache transformed data:  41%|████▏     | 4136/10000 [00:19<00:29, 197.66it/s]\u001b[A\n",
      "Load and cache transformed data:  42%|████▏     | 4156/10000 [00:19<00:29, 196.95it/s]\u001b[A\n",
      "Load and cache transformed data:  42%|████▏     | 4176/10000 [00:20<00:29, 196.38it/s]\u001b[A\n",
      "Load and cache transformed data:  42%|████▏     | 4196/10000 [00:20<00:29, 197.41it/s]\u001b[A\n",
      "Load and cache transformed data:  42%|████▏     | 4216/10000 [00:20<00:29, 197.32it/s]\u001b[A\n",
      "Load and cache transformed data:  42%|████▏     | 4237/10000 [00:20<00:28, 198.90it/s]\u001b[A\n",
      "Load and cache transformed data:  43%|████▎     | 4257/10000 [00:20<00:29, 195.50it/s]\u001b[A\n",
      "Load and cache transformed data:  43%|████▎     | 4278/10000 [00:20<00:28, 197.85it/s]\u001b[A\n",
      "Load and cache transformed data:  43%|████▎     | 4298/10000 [00:20<00:29, 195.58it/s]\u001b[A\n",
      "Load and cache transformed data:  43%|████▎     | 4318/10000 [00:20<00:28, 196.67it/s]\u001b[A\n",
      "Load and cache transformed data:  43%|████▎     | 4338/10000 [00:20<00:28, 197.05it/s]\u001b[A\n",
      "Load and cache transformed data:  44%|████▎     | 4358/10000 [00:20<00:29, 193.45it/s]\u001b[A\n",
      "Load and cache transformed data:  44%|████▍     | 4378/10000 [00:21<00:28, 194.20it/s]\u001b[A\n",
      "Load and cache transformed data:  44%|████▍     | 4399/10000 [00:21<00:28, 196.05it/s]\u001b[A\n",
      "Load and cache transformed data:  44%|████▍     | 4419/10000 [00:21<00:28, 197.04it/s]\u001b[A\n",
      "Load and cache transformed data:  44%|████▍     | 4439/10000 [00:21<00:28, 194.37it/s]\u001b[A\n",
      "Load and cache transformed data:  45%|████▍     | 4459/10000 [00:21<00:28, 193.20it/s]\u001b[A\n",
      "Load and cache transformed data:  45%|████▍     | 4480/10000 [00:21<00:28, 194.95it/s]\u001b[A\n",
      "Load and cache transformed data:  45%|████▌     | 4500/10000 [00:21<00:28, 195.85it/s]\u001b[A\n",
      "Load and cache transformed data:  45%|████▌     | 4520/10000 [00:21<00:27, 195.83it/s]\u001b[A\n",
      "Load and cache transformed data:  45%|████▌     | 4540/10000 [00:21<00:27, 196.41it/s]\u001b[A\n",
      "Load and cache transformed data:  46%|████▌     | 4560/10000 [00:21<00:27, 196.58it/s]\u001b[A\n",
      "Load and cache transformed data:  46%|████▌     | 4580/10000 [00:22<00:27, 196.37it/s]\u001b[A\n",
      "Load and cache transformed data:  46%|████▌     | 4601/10000 [00:22<00:27, 197.22it/s]\u001b[A\n",
      "Load and cache transformed data:  46%|████▌     | 4621/10000 [00:22<00:27, 197.30it/s]\u001b[A\n",
      "Load and cache transformed data:  46%|████▋     | 4641/10000 [00:22<00:27, 197.36it/s]\u001b[A\n",
      "Load and cache transformed data:  47%|████▋     | 4661/10000 [00:22<00:27, 196.00it/s]\u001b[A\n",
      "Load and cache transformed data:  47%|████▋     | 4696/10000 [00:22<00:23, 224.61it/s]\u001b[A\n",
      "Load and cache transformed data:  47%|████▋     | 4720/10000 [00:22<00:23, 220.58it/s]\u001b[A\n",
      "Load and cache transformed data:  47%|████▋     | 4744/10000 [00:22<00:24, 210.97it/s]\u001b[A\n",
      "Load and cache transformed data:  48%|████▊     | 4766/10000 [00:22<00:25, 208.70it/s]\u001b[A\n",
      "Load and cache transformed data:  48%|████▊     | 4788/10000 [00:23<00:25, 201.97it/s]\u001b[A\n",
      "Load and cache transformed data:  48%|████▊     | 4809/10000 [00:23<00:26, 199.65it/s]\u001b[A\n",
      "Load and cache transformed data:  48%|████▊     | 4830/10000 [00:23<00:25, 199.62it/s]\u001b[A\n",
      "Load and cache transformed data:  49%|████▊     | 4851/10000 [00:23<00:25, 199.97it/s]\u001b[A\n",
      "Load and cache transformed data:  49%|████▊     | 4872/10000 [00:23<00:25, 202.17it/s]\u001b[A\n",
      "Load and cache transformed data:  49%|████▉     | 4893/10000 [00:23<00:25, 197.23it/s]\u001b[A\n",
      "Load and cache transformed data:  49%|████▉     | 4913/10000 [00:23<00:25, 196.34it/s]\u001b[A\n",
      "Load and cache transformed data:  49%|████▉     | 4933/10000 [00:23<00:25, 196.39it/s]\u001b[A\n",
      "Load and cache transformed data:  50%|████▉     | 4954/10000 [00:23<00:25, 198.93it/s]\u001b[A\n",
      "Load and cache transformed data:  50%|████▉     | 4974/10000 [00:24<00:25, 195.32it/s]\u001b[A\n",
      "Load and cache transformed data:  50%|████▉     | 4994/10000 [00:24<00:25, 196.06it/s]\u001b[A\n",
      "Load and cache transformed data:  50%|█████     | 5014/10000 [00:24<00:25, 195.73it/s]\u001b[A\n",
      "Load and cache transformed data:  50%|█████     | 5034/10000 [00:24<00:25, 195.59it/s]\u001b[A\n",
      "Load and cache transformed data:  51%|█████     | 5054/10000 [00:24<00:25, 194.29it/s]\u001b[A\n",
      "Load and cache transformed data:  51%|█████     | 5074/10000 [00:24<00:25, 193.86it/s]\u001b[A\n",
      "Load and cache transformed data:  51%|█████     | 5094/10000 [00:24<00:25, 193.56it/s]\u001b[A\n",
      "Load and cache transformed data:  51%|█████     | 5114/10000 [00:24<00:25, 194.91it/s]\u001b[A\n",
      "Load and cache transformed data:  51%|█████▏    | 5134/10000 [00:24<00:24, 195.17it/s]\u001b[A\n",
      "Load and cache transformed data:  52%|█████▏    | 5154/10000 [00:24<00:24, 195.07it/s]\u001b[A\n",
      "Load and cache transformed data:  52%|█████▏    | 5174/10000 [00:25<00:24, 193.48it/s]\u001b[A\n",
      "Load and cache transformed data:  52%|█████▏    | 5195/10000 [00:25<00:24, 198.01it/s]\u001b[A\n",
      "Load and cache transformed data:  52%|█████▏    | 5215/10000 [00:25<00:24, 194.74it/s]\u001b[A\n",
      "Load and cache transformed data:  52%|█████▏    | 5236/10000 [00:25<00:24, 195.69it/s]\u001b[A\n",
      "Load and cache transformed data:  53%|█████▎    | 5256/10000 [00:25<00:24, 196.44it/s]\u001b[A\n",
      "Load and cache transformed data:  53%|█████▎    | 5276/10000 [00:25<00:24, 195.60it/s]\u001b[A\n",
      "Load and cache transformed data:  53%|█████▎    | 5296/10000 [00:25<00:24, 195.97it/s]\u001b[A\n",
      "Load and cache transformed data:  53%|█████▎    | 5316/10000 [00:25<00:23, 196.26it/s]\u001b[A\n",
      "Load and cache transformed data:  53%|█████▎    | 5336/10000 [00:25<00:23, 195.74it/s]\u001b[A\n",
      "Load and cache transformed data:  54%|█████▎    | 5356/10000 [00:25<00:23, 196.55it/s]\u001b[A\n",
      "Load and cache transformed data:  54%|█████▍    | 5378/10000 [00:26<00:23, 200.86it/s]\u001b[A\n",
      "Load and cache transformed data:  54%|█████▍    | 5399/10000 [00:26<00:23, 196.91it/s]\u001b[A\n",
      "Load and cache transformed data:  54%|█████▍    | 5419/10000 [00:26<00:23, 196.56it/s]\u001b[A\n",
      "Load and cache transformed data:  54%|█████▍    | 5439/10000 [00:26<00:23, 196.45it/s]\u001b[A\n",
      "Load and cache transformed data:  55%|█████▍    | 5459/10000 [00:26<00:23, 197.07it/s]\u001b[A\n",
      "Load and cache transformed data:  55%|█████▍    | 5480/10000 [00:26<00:22, 196.64it/s]\u001b[A\n",
      "Load and cache transformed data:  55%|█████▌    | 5501/10000 [00:26<00:22, 197.92it/s]\u001b[A\n",
      "Load and cache transformed data:  55%|█████▌    | 5521/10000 [00:26<00:22, 197.26it/s]\u001b[A\n",
      "Load and cache transformed data:  55%|█████▌    | 5542/10000 [00:26<00:22, 197.94it/s]\u001b[A\n",
      "Load and cache transformed data:  56%|█████▌    | 5562/10000 [00:27<00:22, 195.77it/s]\u001b[A\n",
      "Load and cache transformed data:  56%|█████▌    | 5582/10000 [00:27<00:22, 196.29it/s]\u001b[A\n",
      "Load and cache transformed data:  56%|█████▌    | 5603/10000 [00:27<00:22, 199.34it/s]\u001b[A\n",
      "Load and cache transformed data:  56%|█████▌    | 5623/10000 [00:27<00:22, 197.66it/s]\u001b[A\n",
      "Load and cache transformed data:  56%|█████▋    | 5643/10000 [00:27<00:22, 193.02it/s]\u001b[A\n",
      "Load and cache transformed data:  57%|█████▋    | 5663/10000 [00:27<00:22, 193.51it/s]\u001b[A\n",
      "Load and cache transformed data:  57%|█████▋    | 5684/10000 [00:27<00:22, 193.66it/s]\u001b[A\n",
      "Load and cache transformed data:  57%|█████▋    | 5704/10000 [00:27<00:22, 193.67it/s]\u001b[A\n",
      "Load and cache transformed data:  57%|█████▋    | 5724/10000 [00:27<00:22, 194.02it/s]\u001b[A\n",
      "Load and cache transformed data:  57%|█████▋    | 5744/10000 [00:27<00:22, 193.04it/s]\u001b[A\n",
      "Load and cache transformed data:  58%|█████▊    | 5765/10000 [00:28<00:21, 195.15it/s]\u001b[A\n",
      "Load and cache transformed data:  58%|█████▊    | 5785/10000 [00:28<00:21, 195.41it/s]\u001b[A\n",
      "Load and cache transformed data:  58%|█████▊    | 5807/10000 [00:28<00:20, 199.89it/s]\u001b[A\n",
      "Load and cache transformed data:  58%|█████▊    | 5828/10000 [00:28<00:21, 196.26it/s]\u001b[A\n",
      "Load and cache transformed data:  58%|█████▊    | 5848/10000 [00:28<00:21, 195.77it/s]\u001b[A\n",
      "Load and cache transformed data:  59%|█████▉    | 5884/10000 [00:28<00:18, 225.97it/s]\u001b[A\n",
      "Load and cache transformed data:  59%|█████▉    | 5909/10000 [00:28<00:19, 213.88it/s]\u001b[A\n",
      "Load and cache transformed data:  59%|█████▉    | 5932/10000 [00:28<00:19, 208.81it/s]\u001b[A\n",
      "Load and cache transformed data:  60%|█████▉    | 5954/10000 [00:28<00:19, 204.89it/s]\u001b[A\n",
      "Load and cache transformed data:  60%|█████▉    | 5976/10000 [00:29<00:19, 203.27it/s]\u001b[A\n",
      "Load and cache transformed data:  60%|█████▉    | 5997/10000 [00:29<00:19, 201.89it/s]\u001b[A\n",
      "Load and cache transformed data:  60%|██████    | 6018/10000 [00:29<00:20, 198.85it/s]\u001b[A\n",
      "Load and cache transformed data:  60%|██████    | 6039/10000 [00:29<00:19, 198.75it/s]\u001b[A\n",
      "Load and cache transformed data:  61%|██████    | 6060/10000 [00:29<00:19, 197.03it/s]\u001b[A\n",
      "Load and cache transformed data:  61%|██████    | 6080/10000 [00:29<00:20, 195.61it/s]\u001b[A\n",
      "Load and cache transformed data:  61%|██████    | 6101/10000 [00:29<00:19, 196.46it/s]\u001b[A\n",
      "Load and cache transformed data:  61%|██████    | 6122/10000 [00:29<00:19, 197.29it/s]\u001b[A\n",
      "Load and cache transformed data:  61%|██████▏   | 6143/10000 [00:29<00:19, 199.02it/s]\u001b[A\n",
      "Load and cache transformed data:  62%|██████▏   | 6163/10000 [00:29<00:19, 196.32it/s]\u001b[A\n",
      "Load and cache transformed data:  62%|██████▏   | 6183/10000 [00:30<00:19, 196.26it/s]\u001b[A\n",
      "Load and cache transformed data:  62%|██████▏   | 6204/10000 [00:30<00:19, 196.93it/s]\u001b[A\n",
      "Load and cache transformed data:  62%|██████▏   | 6224/10000 [00:30<00:19, 195.91it/s]\u001b[A\n",
      "Load and cache transformed data:  62%|██████▏   | 6245/10000 [00:30<00:18, 198.07it/s]\u001b[A\n",
      "Load and cache transformed data:  63%|██████▎   | 6265/10000 [00:30<00:19, 194.88it/s]\u001b[A\n",
      "Load and cache transformed data:  63%|██████▎   | 6285/10000 [00:30<00:19, 194.86it/s]\u001b[A\n",
      "Load and cache transformed data:  63%|██████▎   | 6305/10000 [00:30<00:18, 195.52it/s]\u001b[A\n",
      "Load and cache transformed data:  63%|██████▎   | 6325/10000 [00:30<00:18, 195.07it/s]\u001b[A\n",
      "Load and cache transformed data:  63%|██████▎   | 6345/10000 [00:30<00:18, 194.10it/s]\u001b[A\n",
      "Load and cache transformed data:  64%|██████▎   | 6365/10000 [00:31<00:18, 194.04it/s]\u001b[A\n",
      "Load and cache transformed data:  64%|██████▍   | 6385/10000 [00:31<00:18, 193.66it/s]\u001b[A\n",
      "Load and cache transformed data:  64%|██████▍   | 6431/10000 [00:31<00:15, 234.18it/s]\u001b[A\n",
      "Load and cache transformed data:  65%|██████▍   | 6462/10000 [00:31<00:14, 250.41it/s]\u001b[A\n",
      "Load and cache transformed data:  65%|██████▍   | 6491/10000 [00:31<00:15, 232.95it/s]\u001b[A\n",
      "Load and cache transformed data:  65%|██████▌   | 6517/10000 [00:31<00:15, 222.04it/s]\u001b[A\n",
      "Load and cache transformed data:  65%|██████▌   | 6541/10000 [00:31<00:16, 212.83it/s]\u001b[A\n",
      "Load and cache transformed data:  66%|██████▌   | 6564/10000 [00:31<00:16, 208.41it/s]\u001b[A\n",
      "Load and cache transformed data:  66%|██████▌   | 6586/10000 [00:31<00:16, 204.53it/s]\u001b[A\n",
      "Load and cache transformed data:  66%|██████▌   | 6608/10000 [00:32<00:16, 204.80it/s]\u001b[A\n",
      "Load and cache transformed data:  66%|██████▋   | 6629/10000 [00:32<00:16, 200.66it/s]\u001b[A\n",
      "Load and cache transformed data:  66%|██████▋   | 6650/10000 [00:32<00:16, 199.37it/s]\u001b[A\n",
      "Load and cache transformed data:  67%|██████▋   | 6672/10000 [00:32<00:16, 198.41it/s]\u001b[A\n",
      "Load and cache transformed data:  67%|██████▋   | 6693/10000 [00:32<00:16, 198.81it/s]\u001b[A\n",
      "Load and cache transformed data:  67%|██████▋   | 6714/10000 [00:32<00:16, 197.43it/s]\u001b[A\n",
      "Load and cache transformed data:  67%|██████▋   | 6734/10000 [00:32<00:16, 197.25it/s]\u001b[A\n",
      "Load and cache transformed data:  68%|██████▊   | 6755/10000 [00:32<00:16, 200.80it/s]\u001b[A\n",
      "Load and cache transformed data:  68%|██████▊   | 6776/10000 [00:32<00:16, 199.61it/s]\u001b[A\n",
      "Load and cache transformed data:  68%|██████▊   | 6797/10000 [00:33<00:16, 198.40it/s]\u001b[A\n",
      "Load and cache transformed data:  68%|██████▊   | 6817/10000 [00:33<00:16, 197.01it/s]\u001b[A\n",
      "Load and cache transformed data:  68%|██████▊   | 6837/10000 [00:33<00:16, 197.24it/s]\u001b[A\n",
      "Load and cache transformed data:  69%|██████▊   | 6859/10000 [00:33<00:15, 197.97it/s]\u001b[A\n",
      "Load and cache transformed data:  69%|██████▉   | 6879/10000 [00:33<00:15, 196.76it/s]\u001b[A\n",
      "Load and cache transformed data:  69%|██████▉   | 6900/10000 [00:33<00:15, 197.02it/s]\u001b[A\n",
      "Load and cache transformed data:  69%|██████▉   | 6921/10000 [00:33<00:15, 200.56it/s]\u001b[A\n",
      "Load and cache transformed data:  69%|██████▉   | 6942/10000 [00:33<00:15, 199.06it/s]\u001b[A\n",
      "Load and cache transformed data:  70%|██████▉   | 6962/10000 [00:33<00:15, 196.18it/s]\u001b[A\n",
      "Load and cache transformed data:  70%|██████▉   | 6983/10000 [00:33<00:15, 199.51it/s]\u001b[A\n",
      "Load and cache transformed data:  70%|███████   | 7004/10000 [00:34<00:14, 199.87it/s]\u001b[A\n",
      "Load and cache transformed data:  70%|███████   | 7025/10000 [00:34<00:15, 195.17it/s]\u001b[A\n",
      "Load and cache transformed data:  70%|███████   | 7045/10000 [00:34<00:15, 195.50it/s]\u001b[A\n",
      "Load and cache transformed data:  71%|███████   | 7065/10000 [00:34<00:14, 196.52it/s]\u001b[A\n",
      "Load and cache transformed data:  71%|███████   | 7085/10000 [00:34<00:14, 194.75it/s]\u001b[A\n",
      "Load and cache transformed data:  71%|███████   | 7105/10000 [00:34<00:14, 195.59it/s]\u001b[A\n",
      "Load and cache transformed data:  71%|███████▏  | 7126/10000 [00:34<00:14, 199.63it/s]\u001b[A\n",
      "Load and cache transformed data:  71%|███████▏  | 7146/10000 [00:34<00:14, 194.50it/s]\u001b[A\n",
      "Load and cache transformed data:  72%|███████▏  | 7166/10000 [00:34<00:14, 195.07it/s]\u001b[A\n",
      "Load and cache transformed data:  72%|███████▏  | 7186/10000 [00:35<00:14, 194.69it/s]\u001b[A\n",
      "Load and cache transformed data:  72%|███████▏  | 7207/10000 [00:35<00:14, 198.24it/s]\u001b[A\n",
      "Load and cache transformed data:  72%|███████▏  | 7227/10000 [00:35<00:14, 195.60it/s]\u001b[A\n",
      "Load and cache transformed data:  72%|███████▏  | 7247/10000 [00:35<00:14, 195.39it/s]\u001b[A\n",
      "Load and cache transformed data:  73%|███████▎  | 7268/10000 [00:35<00:13, 196.27it/s]\u001b[A\n",
      "Load and cache transformed data:  73%|███████▎  | 7288/10000 [00:35<00:13, 195.51it/s]\u001b[A\n",
      "Load and cache transformed data:  73%|███████▎  | 7308/10000 [00:35<00:13, 195.46it/s]\u001b[A\n",
      "Load and cache transformed data:  73%|███████▎  | 7328/10000 [00:35<00:13, 196.57it/s]\u001b[A\n",
      "Load and cache transformed data:  73%|███████▎  | 7349/10000 [00:35<00:13, 195.15it/s]\u001b[A\n",
      "Load and cache transformed data:  74%|███████▎  | 7370/10000 [00:35<00:13, 196.45it/s]\u001b[A\n",
      "Load and cache transformed data:  74%|███████▍  | 7390/10000 [00:36<00:13, 195.18it/s]\u001b[A\n",
      "Load and cache transformed data:  74%|███████▍  | 7410/10000 [00:36<00:13, 195.40it/s]\u001b[A\n",
      "Load and cache transformed data:  74%|███████▍  | 7430/10000 [00:36<00:13, 193.88it/s]\u001b[A\n",
      "Load and cache transformed data:  74%|███████▍  | 7450/10000 [00:36<00:13, 194.02it/s]\u001b[A\n",
      "Load and cache transformed data:  75%|███████▍  | 7470/10000 [00:36<00:13, 194.12it/s]\u001b[A\n",
      "Load and cache transformed data:  75%|███████▍  | 7491/10000 [00:36<00:12, 194.11it/s]\u001b[A\n",
      "Load and cache transformed data:  75%|███████▌  | 7511/10000 [00:36<00:12, 194.19it/s]\u001b[A\n",
      "Load and cache transformed data:  75%|███████▌  | 7531/10000 [00:36<00:12, 194.48it/s]\u001b[A\n",
      "Load and cache transformed data:  76%|███████▌  | 7551/10000 [00:36<00:12, 194.53it/s]\u001b[A\n",
      "Load and cache transformed data:  76%|███████▌  | 7571/10000 [00:36<00:12, 193.50it/s]\u001b[A\n",
      "Load and cache transformed data:  76%|███████▌  | 7591/10000 [00:37<00:12, 194.95it/s]\u001b[A\n",
      "Load and cache transformed data:  76%|███████▌  | 7611/10000 [00:37<00:12, 191.15it/s]\u001b[A\n",
      "Load and cache transformed data:  76%|███████▋  | 7631/10000 [00:37<00:12, 191.00it/s]\u001b[A\n",
      "Load and cache transformed data:  77%|███████▋  | 7651/10000 [00:37<00:12, 191.65it/s]\u001b[A\n",
      "Load and cache transformed data:  77%|███████▋  | 7672/10000 [00:37<00:12, 192.63it/s]\u001b[A\n",
      "Load and cache transformed data:  77%|███████▋  | 7692/10000 [00:37<00:11, 193.51it/s]\u001b[A\n",
      "Load and cache transformed data:  77%|███████▋  | 7712/10000 [00:37<00:11, 194.07it/s]\u001b[A\n",
      "Load and cache transformed data:  77%|███████▋  | 7732/10000 [00:37<00:11, 194.26it/s]\u001b[A\n",
      "Load and cache transformed data:  78%|███████▊  | 7753/10000 [00:37<00:11, 195.67it/s]\u001b[A\n",
      "Load and cache transformed data:  78%|███████▊  | 7774/10000 [00:38<00:11, 195.51it/s]\u001b[A\n",
      "Load and cache transformed data:  78%|███████▊  | 7794/10000 [00:38<00:11, 196.17it/s]\u001b[A\n",
      "Load and cache transformed data:  78%|███████▊  | 7814/10000 [00:38<00:11, 196.13it/s]\u001b[A\n",
      "Load and cache transformed data:  78%|███████▊  | 7834/10000 [00:38<00:11, 196.19it/s]\u001b[A\n",
      "Load and cache transformed data:  79%|███████▊  | 7854/10000 [00:38<00:10, 196.09it/s]\u001b[A\n",
      "Load and cache transformed data:  79%|███████▉  | 7875/10000 [00:38<00:10, 197.09it/s]\u001b[A\n",
      "Load and cache transformed data:  79%|███████▉  | 7896/10000 [00:38<00:10, 195.76it/s]\u001b[A\n",
      "Load and cache transformed data:  79%|███████▉  | 7916/10000 [00:38<00:10, 195.46it/s]\u001b[A\n",
      "Load and cache transformed data:  79%|███████▉  | 7936/10000 [00:38<00:10, 196.51it/s]\u001b[A\n",
      "Load and cache transformed data:  80%|███████▉  | 7956/10000 [00:38<00:10, 196.16it/s]\u001b[A\n",
      "Load and cache transformed data:  80%|███████▉  | 7976/10000 [00:39<00:10, 196.14it/s]\u001b[A\n",
      "Load and cache transformed data:  80%|███████▉  | 7996/10000 [00:39<00:10, 195.36it/s]\u001b[A\n",
      "Load and cache transformed data:  80%|████████  | 8016/10000 [00:39<00:10, 195.92it/s]\u001b[A\n",
      "Load and cache transformed data:  80%|████████  | 8037/10000 [00:39<00:09, 199.65it/s]\u001b[A\n",
      "Load and cache transformed data:  81%|████████  | 8057/10000 [00:39<00:09, 196.63it/s]\u001b[A\n",
      "Load and cache transformed data:  81%|████████  | 8077/10000 [00:39<00:09, 197.30it/s]\u001b[A\n",
      "Load and cache transformed data:  81%|████████  | 8097/10000 [00:39<00:09, 197.17it/s]\u001b[A\n",
      "Load and cache transformed data:  81%|████████  | 8119/10000 [00:39<00:09, 198.46it/s]\u001b[A\n",
      "Load and cache transformed data:  81%|████████▏ | 8139/10000 [00:39<00:09, 198.89it/s]\u001b[A\n",
      "Load and cache transformed data:  82%|████████▏ | 8159/10000 [00:39<00:09, 198.74it/s]\u001b[A\n",
      "Load and cache transformed data:  82%|████████▏ | 8179/10000 [00:40<00:09, 198.15it/s]\u001b[A\n",
      "Load and cache transformed data:  82%|████████▏ | 8199/10000 [00:40<00:09, 196.67it/s]\u001b[A\n",
      "Load and cache transformed data:  82%|████████▏ | 8219/10000 [00:40<00:09, 195.11it/s]\u001b[A\n",
      "Load and cache transformed data:  82%|████████▏ | 8239/10000 [00:40<00:09, 195.13it/s]\u001b[A\n",
      "Load and cache transformed data:  83%|████████▎ | 8259/10000 [00:40<00:08, 195.99it/s]\u001b[A\n",
      "Load and cache transformed data:  83%|████████▎ | 8280/10000 [00:40<00:08, 198.60it/s]\u001b[A\n",
      "Load and cache transformed data:  83%|████████▎ | 8300/10000 [00:40<00:08, 196.17it/s]\u001b[A\n",
      "Load and cache transformed data:  83%|████████▎ | 8321/10000 [00:40<00:08, 198.70it/s]\u001b[A\n",
      "Load and cache transformed data:  83%|████████▎ | 8341/10000 [00:40<00:08, 192.71it/s]\u001b[A\n",
      "Load and cache transformed data:  84%|████████▎ | 8361/10000 [00:41<00:08, 193.42it/s]\u001b[A\n",
      "Load and cache transformed data:  84%|████████▍ | 8381/10000 [00:41<00:08, 192.53it/s]\u001b[A\n",
      "Load and cache transformed data:  84%|████████▍ | 8401/10000 [00:41<00:08, 193.12it/s]\u001b[A\n",
      "Load and cache transformed data:  84%|████████▍ | 8421/10000 [00:41<00:08, 193.30it/s]\u001b[A\n",
      "Load and cache transformed data:  84%|████████▍ | 8441/10000 [00:41<00:08, 193.76it/s]\u001b[A\n",
      "Load and cache transformed data:  85%|████████▍ | 8462/10000 [00:41<00:07, 195.92it/s]\u001b[A\n",
      "Load and cache transformed data:  85%|████████▍ | 8482/10000 [00:41<00:07, 194.91it/s]\u001b[A\n",
      "Load and cache transformed data:  85%|████████▌ | 8503/10000 [00:41<00:07, 198.68it/s]\u001b[A\n",
      "Load and cache transformed data:  85%|████████▌ | 8523/10000 [00:41<00:07, 196.70it/s]\u001b[A\n",
      "Load and cache transformed data:  85%|████████▌ | 8544/10000 [00:41<00:07, 198.03it/s]\u001b[A\n",
      "Load and cache transformed data:  86%|████████▌ | 8564/10000 [00:42<00:07, 194.80it/s]\u001b[A\n",
      "Load and cache transformed data:  86%|████████▌ | 8585/10000 [00:42<00:07, 195.58it/s]\u001b[A\n",
      "Load and cache transformed data:  86%|████████▌ | 8622/10000 [00:42<00:06, 227.06it/s]\u001b[A\n",
      "Load and cache transformed data:  86%|████████▋ | 8647/10000 [00:42<00:06, 216.60it/s]\u001b[A\n",
      "Load and cache transformed data:  87%|████████▋ | 8671/10000 [00:42<00:06, 210.75it/s]\u001b[A\n",
      "Load and cache transformed data:  87%|████████▋ | 8694/10000 [00:42<00:06, 206.37it/s]\u001b[A\n",
      "Load and cache transformed data:  87%|████████▋ | 8716/10000 [00:42<00:06, 203.33it/s]\u001b[A\n",
      "Load and cache transformed data:  87%|████████▋ | 8737/10000 [00:42<00:06, 200.75it/s]\u001b[A\n",
      "Load and cache transformed data:  88%|████████▊ | 8758/10000 [00:42<00:06, 200.14it/s]\u001b[A\n",
      "Load and cache transformed data:  88%|████████▊ | 8779/10000 [00:43<00:06, 198.55it/s]\u001b[A\n",
      "Load and cache transformed data:  88%|████████▊ | 8800/10000 [00:43<00:05, 200.58it/s]\u001b[A\n",
      "Load and cache transformed data:  88%|████████▊ | 8821/10000 [00:43<00:05, 198.77it/s]\u001b[A\n",
      "Load and cache transformed data:  88%|████████▊ | 8841/10000 [00:43<00:05, 198.29it/s]\u001b[A\n",
      "Load and cache transformed data:  89%|████████▊ | 8861/10000 [00:43<00:05, 194.89it/s]\u001b[A\n",
      "Load and cache transformed data:  89%|████████▉ | 8881/10000 [00:43<00:05, 195.19it/s]\u001b[A\n",
      "Load and cache transformed data:  89%|████████▉ | 8902/10000 [00:43<00:05, 196.94it/s]\u001b[A\n",
      "Load and cache transformed data:  89%|████████▉ | 8923/10000 [00:43<00:05, 198.14it/s]\u001b[A\n",
      "Load and cache transformed data:  89%|████████▉ | 8943/10000 [00:43<00:05, 194.76it/s]\u001b[A\n",
      "Load and cache transformed data:  90%|████████▉ | 8963/10000 [00:43<00:05, 195.85it/s]\u001b[A\n",
      "Load and cache transformed data:  90%|████████▉ | 8983/10000 [00:44<00:05, 193.88it/s]\u001b[A\n",
      "Load and cache transformed data:  90%|█████████ | 9004/10000 [00:44<00:05, 196.02it/s]\u001b[A\n",
      "Load and cache transformed data:  90%|█████████ | 9024/10000 [00:44<00:04, 196.81it/s]\u001b[A\n",
      "Load and cache transformed data:  90%|█████████ | 9044/10000 [00:44<00:04, 196.44it/s]\u001b[A\n",
      "Load and cache transformed data:  91%|█████████ | 9064/10000 [00:44<00:04, 194.74it/s]\u001b[A\n",
      "Load and cache transformed data:  91%|█████████ | 9084/10000 [00:44<00:04, 194.51it/s]\u001b[A\n",
      "Load and cache transformed data:  91%|█████████ | 9104/10000 [00:44<00:04, 194.99it/s]\u001b[A\n",
      "Load and cache transformed data:  91%|█████████▏| 9126/10000 [00:44<00:04, 201.15it/s]\u001b[A\n",
      "Load and cache transformed data:  91%|█████████▏| 9147/10000 [00:44<00:04, 192.63it/s]\u001b[A\n",
      "Load and cache transformed data:  92%|█████████▏| 9167/10000 [00:45<00:04, 193.00it/s]\u001b[A\n",
      "Load and cache transformed data:  92%|█████████▏| 9187/10000 [00:45<00:04, 194.13it/s]\u001b[A\n",
      "Load and cache transformed data:  92%|█████████▏| 9207/10000 [00:45<00:04, 195.08it/s]\u001b[A\n",
      "Load and cache transformed data:  92%|█████████▏| 9227/10000 [00:45<00:03, 194.73it/s]\u001b[A\n",
      "Load and cache transformed data:  92%|█████████▏| 9248/10000 [00:45<00:03, 196.20it/s]\u001b[A\n",
      "Load and cache transformed data:  93%|█████████▎| 9269/10000 [00:45<00:03, 196.17it/s]\u001b[A\n",
      "Load and cache transformed data:  93%|█████████▎| 9289/10000 [00:45<00:03, 195.81it/s]\u001b[A\n",
      "Load and cache transformed data:  93%|█████████▎| 9310/10000 [00:45<00:03, 197.14it/s]\u001b[A\n",
      "Load and cache transformed data:  93%|█████████▎| 9330/10000 [00:45<00:03, 195.07it/s]\u001b[A\n",
      "Load and cache transformed data:  94%|█████████▎| 9372/10000 [00:45<00:02, 231.49it/s]\u001b[A\n",
      "Load and cache transformed data:  94%|█████████▍| 9398/10000 [00:46<00:02, 215.41it/s]\u001b[A\n",
      "Load and cache transformed data:  94%|█████████▍| 9422/10000 [00:46<00:02, 210.39it/s]\u001b[A\n",
      "Load and cache transformed data:  94%|█████████▍| 9445/10000 [00:46<00:02, 208.68it/s]\u001b[A\n",
      "Load and cache transformed data:  95%|█████████▍| 9467/10000 [00:46<00:02, 202.51it/s]\u001b[A\n",
      "Load and cache transformed data:  95%|█████████▍| 9489/10000 [00:46<00:02, 200.68it/s]\u001b[A\n",
      "Load and cache transformed data:  95%|█████████▌| 9510/10000 [00:46<00:02, 199.61it/s]\u001b[A\n",
      "Load and cache transformed data:  95%|█████████▌| 9531/10000 [00:46<00:02, 199.27it/s]\u001b[A\n",
      "Load and cache transformed data:  96%|█████████▌| 9552/10000 [00:46<00:02, 199.23it/s]\u001b[A\n",
      "Load and cache transformed data:  96%|█████████▌| 9573/10000 [00:47<00:02, 198.62it/s]\u001b[A\n",
      "Load and cache transformed data:  96%|█████████▌| 9595/10000 [00:47<00:02, 199.17it/s]\u001b[A\n",
      "Load and cache transformed data:  96%|█████████▌| 9616/10000 [00:47<00:01, 197.07it/s]\u001b[A\n",
      "Load and cache transformed data:  96%|█████████▋| 9636/10000 [00:47<00:01, 197.90it/s]\u001b[A\n",
      "Load and cache transformed data:  97%|█████████▋| 9656/10000 [00:47<00:01, 195.40it/s]\u001b[A\n",
      "Load and cache transformed data:  97%|█████████▋| 9676/10000 [00:47<00:01, 195.69it/s]\u001b[A\n",
      "Load and cache transformed data:  97%|█████████▋| 9697/10000 [00:47<00:01, 196.17it/s]\u001b[A\n",
      "Load and cache transformed data:  97%|█████████▋| 9718/10000 [00:47<00:01, 198.68it/s]\u001b[A\n",
      "Load and cache transformed data:  97%|█████████▋| 9738/10000 [00:47<00:01, 195.13it/s]\u001b[A\n",
      "Load and cache transformed data:  98%|█████████▊| 9758/10000 [00:47<00:01, 195.07it/s]\u001b[A\n",
      "Load and cache transformed data:  98%|█████████▊| 9778/10000 [00:48<00:01, 195.33it/s]\u001b[A\n",
      "Load and cache transformed data:  98%|█████████▊| 9798/10000 [00:48<00:01, 195.14it/s]\u001b[A\n",
      "Load and cache transformed data:  98%|█████████▊| 9820/10000 [00:48<00:00, 198.70it/s]\u001b[A\n",
      "Load and cache transformed data:  98%|█████████▊| 9841/10000 [00:48<00:00, 200.32it/s]\u001b[A\n",
      "Load and cache transformed data:  99%|█████████▊| 9862/10000 [00:48<00:00, 200.17it/s]\u001b[A\n",
      "Load and cache transformed data:  99%|█████████▉| 9883/10000 [00:48<00:00, 201.33it/s]\u001b[A\n",
      "Load and cache transformed data:  99%|█████████▉| 9904/10000 [00:48<00:00, 196.62it/s]\u001b[A\n",
      "Load and cache transformed data:  99%|█████████▉| 9926/10000 [00:48<00:00, 201.16it/s]\u001b[A\n",
      "Load and cache transformed data:  99%|█████████▉| 9947/10000 [00:48<00:00, 201.57it/s]\u001b[A\n",
      "Load and cache transformed data: 100%|██████████| 10000/10000 [00:49<00:00, 203.73it/s][A\n"
     ]
    }
   ],
   "source": [
    "batch_size = 1\n",
    "num_workers = 10\n",
    "\n",
    "hand_test_ds = CacheDataset(hand_datadict, test_transforms, num_workers=num_workers)\n",
    "hand_test_loader = DataLoader(hand_test_ds, batch_size=1, shuffle=True, num_workers=num_workers)"
   ]
  },
  {
   "cell_type": "code",
   "execution_count": 121,
   "metadata": {
    "ExecuteTime": {
     "end_time": "2020-12-09T08:01:12.986688Z",
     "start_time": "2020-12-09T08:01:12.579934Z"
    },
    "scrolled": true
   },
   "outputs": [
    {
     "data": {
      "image/png": "[encoded data removed]",
      "text/plain": [
       "<Figure size 720x720 with 2 Axes>"
      ]
     },
     "metadata": {
      "needs_background": "light"
     },
     "output_type": "display_data"
    }
   ],
   "source": [
    "data = get_single_im(hand_test_ds)\n",
    "\n",
    "model.eval()\n",
    "recons = []\n",
    "im = data['im']\n",
    "recon = model(im.to(device)).detach().cpu()\n",
    "recons.append(recon)\n",
    "\n",
    "plot_ims(\n",
    "    [im] + [recons[0]], \n",
    "    titles=['orig'] + [\"recon\"] ,\n",
    "    shape=(2,1))"
   ]
  },
  {
   "cell_type": "code",
   "execution_count": 21,
   "metadata": {
    "ExecuteTime": {
     "end_time": "2020-12-26T17:31:43.006649Z",
     "start_time": "2020-12-26T17:31:42.999901Z"
    }
   },
   "outputs": [],
   "source": [
    "cxr_test_loader = DataLoader(test_ds, batch_size=1, shuffle=True, num_workers=num_workers)"
   ]
  },
  {
   "cell_type": "code",
   "execution_count": 22,
   "metadata": {
    "ExecuteTime": {
     "end_time": "2020-12-26T17:31:43.021543Z",
     "start_time": "2020-12-26T17:31:43.011256Z"
    }
   },
   "outputs": [],
   "source": [
    "def evaluation(dataset_type):\n",
    "    model.eval()\n",
    "    loss_dist = []\n",
    "    loss_function = torch.nn.MSELoss()\n",
    "\n",
    "    for batch_data in dataset_type:        \n",
    "        inputs = batch_data['im'].to(device)\n",
    "        outputs = model(inputs)\n",
    "        loss = loss_function(outputs, batch_data['im'].to(device))\n",
    "        loss_dist.append(loss.item())\n",
    "        \n",
    "    return loss_dist"
   ]
  },
  {
   "cell_type": "code",
   "execution_count": 23,
   "metadata": {
    "ExecuteTime": {
     "end_time": "2020-12-26T17:32:22.939384Z",
     "start_time": "2020-12-26T17:31:43.026020Z"
    }
   },
   "outputs": [],
   "source": [
    "test_types = ['CXR','Hand']\n",
    "test_dataset_types = [cxr_test_loader, hand_test_loader]\n",
    "test_losses = []\n",
    "for i in test_dataset_types:\n",
    "    test_loss = evaluation(i)\n",
    "    test_losses.append(test_loss)"
   ]
  },
  {
   "cell_type": "code",
   "execution_count": 24,
   "metadata": {
    "ExecuteTime": {
     "end_time": "2020-12-26T17:32:23.186027Z",
     "start_time": "2020-12-26T17:32:22.940667Z"
    }
   },
   "outputs": [
    {
     "data": {
      "image/png": "[encoded data removed]",
      "text/plain": [
       "<Figure size 432x288 with 1 Axes>"
      ]
     },
     "metadata": {
      "needs_background": "light"
     },
     "output_type": "display_data"
    }
   ],
   "source": [
    "plt.figure()\n",
    "for y, label in zip(test_losses, test_types):\n",
    "    x = list(range(1, len(y)+1))\n",
    "    line, = plt.plot(x, y)\n",
    "    line.set_label(label)\n",
    "plt.legend();"
   ]
  },
  {
   "cell_type": "code",
   "execution_count": 25,
   "metadata": {
    "ExecuteTime": {
     "end_time": "2020-12-26T17:32:23.315030Z",
     "start_time": "2020-12-26T17:32:23.186876Z"
    }
   },
   "outputs": [],
   "source": [
    "import seaborn as sns"
   ]
  },
  {
   "cell_type": "code",
   "execution_count": 28,
   "metadata": {
    "ExecuteTime": {
     "end_time": "2020-12-26T17:36:38.030685Z",
     "start_time": "2020-12-26T17:36:37.704463Z"
    }
   },
   "outputs": [
    {
     "data": {
      "text/plain": [
       "<matplotlib.legend.Legend at 0x7f409568bfd0>"
      ]
     },
     "execution_count": 28,
     "metadata": {},
     "output_type": "execute_result"
    },
    {
     "data": {
      "image/png": "[encoded data removed]",
      "text/plain": [
       "<Figure size 864x432 with 1 Axes>"
      ]
     },
     "metadata": {
      "needs_background": "light"
     },
     "output_type": "display_data"
    }
   ],
   "source": [
    "lower_threshold = 0.0\n",
    "upper_threshold = 0.016\n",
    "plt.figure(figsize=(12,6))\n",
    "plt.title('Loss Distribution')\n",
    "sns.distplot(test_losses[0],bins=100,kde=True, color='blue', label='CXR')\n",
    "sns.distplot(test_losses[1],bins=100,kde=True, color='orange', label = 'Hand')\n",
    "plt.legend()\n",
    "#plt.set_label('CXR','Hand')\n",
    "#plt.axvline(upper_threshold, 0.0, 10, color='r')\n",
    "#plt.axvline(lower_threshold, 0.0, 10, color='b')"
   ]
  },
  {
   "cell_type": "code",
   "execution_count": 86,
   "metadata": {
    "ExecuteTime": {
     "end_time": "2020-12-08T17:25:45.143002Z",
     "start_time": "2020-12-08T17:25:45.137556Z"
    }
   },
   "outputs": [
    {
     "data": {
      "text/plain": [
       "12000"
      ]
     },
     "execution_count": 86,
     "metadata": {},
     "output_type": "execute_result"
    }
   ],
   "source": [
    "len(loss_dist)"
   ]
  },
  {
   "cell_type": "code",
   "execution_count": 101,
   "metadata": {
    "ExecuteTime": {
     "end_time": "2020-12-08T17:32:37.521588Z",
     "start_time": "2020-12-08T17:32:37.514114Z"
    }
   },
   "outputs": [
    {
     "name": "stdout",
     "output_type": "stream",
     "text": [
      "[TP] 9627\t[FP] 47\t[MISSED] 373\n",
      "[TN] 1953\t[FN] 373\n"
     ]
    }
   ],
   "source": [
    "tp = 0\n",
    "fp = 0\n",
    "tn = 0\n",
    "fn = 0\n",
    "total_anom = 10000\n",
    "for i in test_losses[0]:\n",
    "    if i < upper_threshold:\n",
    "        tn += 1\n",
    "    else:\n",
    "        fp +=1\n",
    "\n",
    "for j in test_losses[1]:\n",
    "    if j < upper_threshold:\n",
    "        fn += 1\n",
    "    else:\n",
    "        tp +=1\n",
    "\n",
    "        \n",
    "print('[TP] {}\\t[FP] {}\\t[MISSED] {}'.format(tp, fp, total_anom-tp))\n",
    "print('[TN] {}\\t[FN] {}'.format(tn, fn))"
   ]
  },
  {
   "cell_type": "code",
   "execution_count": 102,
   "metadata": {
    "ExecuteTime": {
     "end_time": "2020-12-08T17:32:39.112296Z",
     "start_time": "2020-12-08T17:32:39.041266Z"
    }
   },
   "outputs": [
    {
     "data": {
      "text/plain": [
       "<matplotlib.axes._subplots.AxesSubplot at 0x7f2963913a50>"
      ]
     },
     "execution_count": 102,
     "metadata": {},
     "output_type": "execute_result"
    },
    {
     "data": {
      "image/png": "[encoded data removed]",
      "text/plain": [
       "<Figure size 432x288 with 2 Axes>"
      ]
     },
     "metadata": {
      "needs_background": "light"
     },
     "output_type": "display_data"
    }
   ],
   "source": [
    "conf = [[tn,fp],[fn,tp]]\n",
    "plt.figure()\n",
    "sns.heatmap(conf,annot=True,annot_kws={\"size\": 16},fmt='g')"
   ]
  },
  {
   "cell_type": "code",
   "execution_count": 90,
   "metadata": {
    "ExecuteTime": {
     "end_time": "2020-12-08T17:26:28.065605Z",
     "start_time": "2020-12-08T17:26:28.057846Z"
    }
   },
   "outputs": [
    {
     "name": "stdout",
     "output_type": "stream",
     "text": [
      "[TP] 8047\t[FP] 1627\t[MISSED] 1953\n",
      "[TN] 373\t[FN] 1953\n"
     ]
    }
   ],
   "source": [
    "tp = 0\n",
    "fp = 0\n",
    "tn = 0\n",
    "fn = 0\n",
    "total_anom = 10000\n",
    "for i in range(len(loss_dist)):\n",
    "    if i <10000:\n",
    "        if loss_dist[i] >= upper_threshold:\n",
    "            tp += 1\n",
    "        else:\n",
    "            fn += 1\n",
    "    elif i >=10000:\n",
    "        if loss_dist[i] < upper_threshold:\n",
    "            tn += 1\n",
    "        else:\n",
    "            fp += 1\n",
    "print('[TP] {}\\t[FP] {}\\t[MISSED] {}'.format(tp, fp, total_anom-tp))\n",
    "print('[TN] {}\\t[FN] {}'.format(tn, fn))"
   ]
  },
  {
   "cell_type": "code",
   "execution_count": null,
   "metadata": {},
   "outputs": [],
   "source": [
    "tp = 0\n",
    "fp = 0\n",
    "tn = 0\n",
    "fn = 0\n",
    "total_anom = 10000\n",
    "for i in range(len(loss_dist)):\n",
    "    if loss_dist[i] >= upper_threshold:\n",
    "        n_df = pd.DataFrame([df.iloc[i]])\n",
    "        n_df['loss'] = loss_dist[i]\n",
    "        ddf = pd.concat([df,n_df], sort = True)\n",
    "        if float(df.iloc[i]['label']) == 1.0:\n",
    "            tp += 1\n",
    "        else:\n",
    "            fn += 1\n",
    "    else:\n",
    "        if float(df.iloc[i]['label']) == 1.0:\n",
    "            fp += 1\n",
    "        else:\n",
    "            tn += 1\n",
    "print('[TP] {}\\t[FP] {}\\t[MISSED] {}'.format(tp, fp, total_anom-tp))\n",
    "print('[TN] {}\\t[FN] {}'.format(tn, fn))"
   ]
  },
  {
   "cell_type": "markdown",
   "metadata": {},
   "source": [
    "## ROC and AUC"
   ]
  },
  {
   "cell_type": "code",
   "execution_count": 103,
   "metadata": {
    "ExecuteTime": {
     "end_time": "2020-12-09T07:49:22.103405Z",
     "start_time": "2020-12-09T07:49:22.050425Z"
    }
   },
   "outputs": [],
   "source": [
    "from sklearn.metrics import roc_curve\n",
    "from sklearn.metrics import roc_auc_score"
   ]
  },
  {
   "cell_type": "code",
   "execution_count": 104,
   "metadata": {
    "ExecuteTime": {
     "end_time": "2020-12-09T07:50:00.800172Z",
     "start_time": "2020-12-09T07:50:00.794996Z"
    }
   },
   "outputs": [],
   "source": [
    "y_test = [0]*2000 + [1]*10000\n",
    "y_pred = test_losses[0] + test_losses[1]"
   ]
  },
  {
   "cell_type": "code",
   "execution_count": 105,
   "metadata": {
    "ExecuteTime": {
     "end_time": "2020-12-09T07:50:01.487619Z",
     "start_time": "2020-12-09T07:50:01.479138Z"
    }
   },
   "outputs": [],
   "source": [
    "# calculate roc curve\n",
    "fpr, tpr, thresholds = roc_curve(y_test, y_pred)"
   ]
  },
  {
   "cell_type": "code",
   "execution_count": 106,
   "metadata": {
    "ExecuteTime": {
     "end_time": "2020-12-09T07:50:02.133793Z",
     "start_time": "2020-12-09T07:50:02.121357Z"
    }
   },
   "outputs": [
    {
     "name": "stdout",
     "output_type": "stream",
     "text": [
      "AUC: 0.996\n"
     ]
    }
   ],
   "source": [
    "# calculate AUC\n",
    "auc = roc_auc_score(y_test, y_pred)\n",
    "print('AUC: %.3f' % auc)"
   ]
  },
  {
   "cell_type": "code",
   "execution_count": 107,
   "metadata": {
    "ExecuteTime": {
     "end_time": "2020-12-09T07:50:03.129661Z",
     "start_time": "2020-12-09T07:50:03.043418Z"
    }
   },
   "outputs": [
    {
     "data": {
      "image/png": "[encoded data removed]",
      "text/plain": [
       "<Figure size 432x288 with 1 Axes>"
      ]
     },
     "metadata": {
      "needs_background": "light"
     },
     "output_type": "display_data"
    }
   ],
   "source": [
    "plt.plot(fpr,tpr,label=\"data 2, auc=\"+str(auc))\n",
    "plt.plot([0, 1], [0, 1], 'k--')\n",
    "#plt.xlim([0.0, 1.0])\n",
    "#plt.ylim([0.0, 1.05])\n",
    "plt.xlabel('False Positive Rate')\n",
    "plt.ylabel('True Positive Rate')\n",
    "plt.title('Receiver operating characteristic example')\n",
    "plt.legend(loc=\"lower right\")\n",
    "plt.show()"
   ]
  }
 ],
 "metadata": {
  "kernelspec": {
   "display_name": "Python 3",
   "language": "python",
   "name": "python3"
  },
  "language_info": {
   "codemirror_mode": {
    "name": "ipython",
    "version": 3
   },
   "file_extension": ".py",
   "mimetype": "text/x-python",
   "name": "python",
   "nbconvert_exporter": "python",
   "pygments_lexer": "ipython3",
   "version": "3.7.4"
  },
  "toc": {
   "base_numbering": 1,
   "nav_menu": {},
   "number_sections": true,
   "sideBar": true,
   "skip_h1_title": false,
   "title_cell": "Table of Contents",
   "title_sidebar": "Contents",
   "toc_cell": false,
   "toc_position": {},
   "toc_section_display": true,
   "toc_window_display": false
  }
 },
 "nbformat": 4,
 "nbformat_minor": 4
}
