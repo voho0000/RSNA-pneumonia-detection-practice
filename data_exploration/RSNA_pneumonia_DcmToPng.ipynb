{
 "cells": [
  {
   "cell_type": "markdown",
   "metadata": {},
   "source": [
    "# Convert images in Dicom format to png or jpg format"
   ]
  },
  {
   "cell_type": "code",
   "execution_count": 1,
   "metadata": {
    "ExecuteTime": {
     "end_time": "2020-12-10T20:10:11.737857Z",
     "start_time": "2020-12-10T20:10:11.394250Z"
    }
   },
   "outputs": [],
   "source": [
    "from tqdm import tqdm_notebook as tqdm\n",
    "import os\n",
    "import pydicom\n",
    "import glob\n",
    "from PIL import Image\n",
    "import joblib\n",
    "%matplotlib inline \n",
    "import pandas as pd"
   ]
  },
  {
   "cell_type": "markdown",
   "metadata": {},
   "source": [
    "## Create a folder containing all images"
   ]
  },
  {
   "cell_type": "code",
   "execution_count": 2,
   "metadata": {
    "ExecuteTime": {
     "end_time": "2020-12-10T20:10:12.718167Z",
     "start_time": "2020-12-10T20:10:12.593531Z"
    }
   },
   "outputs": [],
   "source": [
    "PATH=\"./rsna-pneumonia-detection-challenge\"\n",
    "train_PATH=PATH+'/stage_2_train_images/'\n",
    "dicom_paths = glob.glob(train_PATH+'*dcm')\n",
    "#size = (512,512)\n",
    "png_path = f'./data/size{size[0]}/stage_2_train_images/'\n",
    "\n",
    "\n",
    "def dicom_to_png(dcm_path, png_path, size=None):\n",
    "    im = pydicom.read_file(dcm_path).pixel_array\n",
    "    img =Image.fromarray(im)\n",
    "    if size is not None:\n",
    "        img = img.resize(size) # size = (weight, height)\n",
    "    name = dcm_path.split('/')[-1][:-3]+'png'\n",
    "    if not os.path.exists(png_path):\n",
    "        os.makedirs(png_path)\n",
    "    img.save(os.path.join(png_path, name))\n",
    "\n",
    "def prepare_images_njobs(dicom_paths, png_path, size=None, n_jobs=-1):\n",
    "    joblib.Parallel(n_jobs=n_jobs)(joblib.delayed(dicom_to_png)(dcm_path, png_path, size) for dcm_path in tqdm(dicom_paths))"
   ]
  },
  {
   "cell_type": "code",
   "execution_count": null,
   "metadata": {
    "ExecuteTime": {
     "end_time": "2020-12-10T20:10:22.988143Z",
     "start_time": "2020-12-10T20:10:22.471385Z"
    }
   },
   "outputs": [],
   "source": [
    "# Running on the first 10 files for testing \n",
    "prepare_images_njobs(dicom_paths[:10], png_path, size)"
   ]
  },
  {
   "cell_type": "code",
   "execution_count": null,
   "metadata": {
    "ExecuteTime": {
     "end_time": "2020-12-10T20:10:33.115087Z",
     "start_time": "2020-12-10T20:10:25.036760Z"
    }
   },
   "outputs": [],
   "source": [
    "# Running all files\n",
    "prepare_images_njobs(dicom_paths, png_path)"
   ]
  },
  {
   "cell_type": "code",
   "execution_count": null,
   "metadata": {},
   "outputs": [],
   "source": [
    "len(os.listdir(png_path))"
   ]
  },
  {
   "cell_type": "markdown",
   "metadata": {},
   "source": [
    "## create a folder only containing PA view position images"
   ]
  },
  {
   "cell_type": "code",
   "execution_count": 2,
   "metadata": {
    "ExecuteTime": {
     "end_time": "2020-12-04T19:15:53.645078Z",
     "start_time": "2020-12-04T19:15:53.524118Z"
    }
   },
   "outputs": [],
   "source": [
    "# final_df equals to train_df in EDA notebook\n",
    "df = pd.read_csv('final_df.csv')"
   ]
  },
  {
   "cell_type": "code",
   "execution_count": 4,
   "metadata": {
    "ExecuteTime": {
     "end_time": "2020-12-04T19:16:13.781432Z",
     "start_time": "2020-12-04T19:16:13.778430Z"
    }
   },
   "outputs": [
    {
     "data": {
      "text/plain": [
       "Index(['Unnamed: 0', 'Unnamed: 0_x', 'SOPInstanceUID', 'AccessionNumber',\n",
       "       'PatientName', 'PatientID', 'PatientBirthDate', 'PatientSex',\n",
       "       'PatientAge', 'ViewPosition', 'StudyInstanceUID', 'SeriesInstanceUID',\n",
       "       'StudyID', 'PatientOrientation', 'Unnamed: 0_y', 'patientId', 'x', 'y',\n",
       "       'width', 'height', 'Target', 'class'],\n",
       "      dtype='object')"
      ]
     },
     "execution_count": 4,
     "metadata": {},
     "output_type": "execute_result"
    }
   ],
   "source": [
    "df.columns"
   ]
  },
  {
   "cell_type": "code",
   "execution_count": 10,
   "metadata": {
    "ExecuteTime": {
     "end_time": "2020-12-04T19:22:39.674735Z",
     "start_time": "2020-12-04T19:22:39.661052Z"
    }
   },
   "outputs": [],
   "source": [
    "df_patient = df.drop_duplicates('PatientID', keep='first')"
   ]
  },
  {
   "cell_type": "code",
   "execution_count": 25,
   "metadata": {
    "ExecuteTime": {
     "end_time": "2020-12-04T19:26:25.034471Z",
     "start_time": "2020-12-04T19:26:24.990476Z"
    }
   },
   "outputs": [],
   "source": [
    "PATH=\"./rsna-pneumonia-detection-challenge\"\n",
    "train_PATH=PATH+'/stage_2_train_images/'\n",
    "dicom_paths = glob.glob(train_PATH+'*dcm')\n",
    "size = (1024,1024)\n",
    "png_path = f'./data/size{size[0]}/PA/'\n",
    "\n",
    "\n",
    "def dicom_to_png(dcm_path, png_path, size=None):\n",
    "    img_id = dcm_path.split('/')[-1][:-4]\n",
    "    im = pydicom.read_file(dcm_path).pixel_array\n",
    "    img =Image.fromarray(im)\n",
    "    size = None\n",
    "    if size is not None:\n",
    "        img = img.resize(size) # size = (weight, height)\n",
    "    name = dcm_path.split('/')[-1][:-3]+'jpg'\n",
    "    if not os.path.exists(png_path):\n",
    "        os.makedirs(png_path)\n",
    "    if df_patient[df_patient['patientId'] == img_id]['ViewPosition'].values[0]=='PA':\n",
    "        img.save(os.path.join(png_path, name))\n",
    "\n",
    "def prepare_images_njobs(dicom_paths, png_path, size=None, n_jobs=-1):\n",
    "    joblib.Parallel(n_jobs=n_jobs)(joblib.delayed(dicom_to_png)(dcm_path, png_path, size) for dcm_path in tqdm(dicom_paths))"
   ]
  },
  {
   "cell_type": "code",
   "execution_count": 26,
   "metadata": {
    "ExecuteTime": {
     "end_time": "2020-12-04T19:26:34.215651Z",
     "start_time": "2020-12-04T19:26:33.084949Z"
    }
   },
   "outputs": [
    {
     "data": {
      "application/vnd.jupyter.widget-view+json": {
       "model_id": "32502da794e1499081ef84551aa6ae5e",
       "version_major": 2,
       "version_minor": 0
      },
      "text/plain": [
       "HBox(children=(IntProgress(value=0, max=10), HTML(value='')))"
      ]
     },
     "metadata": {},
     "output_type": "display_data"
    },
    {
     "name": "stdout",
     "output_type": "stream",
     "text": [
      "\n"
     ]
    }
   ],
   "source": [
    "# Running on the first 10 files for testing\n",
    "prepare_images_njobs(dicom_paths[:10], png_path, size)"
   ]
  },
  {
   "cell_type": "code",
   "execution_count": 32,
   "metadata": {
    "ExecuteTime": {
     "end_time": "2020-12-04T19:47:31.016197Z",
     "start_time": "2020-12-04T19:32:32.034526Z"
    }
   },
   "outputs": [
    {
     "data": {
      "application/vnd.jupyter.widget-view+json": {
       "model_id": "01ab88c306984bcba60444efb94a9309",
       "version_major": 2,
       "version_minor": 0
      },
      "text/plain": [
       "HBox(children=(IntProgress(value=0, max=26684), HTML(value='')))"
      ]
     },
     "metadata": {},
     "output_type": "display_data"
    },
    {
     "name": "stdout",
     "output_type": "stream",
     "text": [
      "\n"
     ]
    }
   ],
   "source": [
    "# Running all files\n",
    "prepare_images_njobs(dicom_paths, png_path, size)"
   ]
  },
  {
   "cell_type": "markdown",
   "metadata": {},
   "source": [
    "### confirm the numbers of PA images"
   ]
  },
  {
   "cell_type": "code",
   "execution_count": 33,
   "metadata": {
    "ExecuteTime": {
     "end_time": "2020-12-04T19:47:31.025860Z",
     "start_time": "2020-12-04T19:47:31.017344Z"
    }
   },
   "outputs": [
    {
     "data": {
      "text/plain": [
       "14511"
      ]
     },
     "execution_count": 33,
     "metadata": {},
     "output_type": "execute_result"
    }
   ],
   "source": [
    "len(os.listdir(png_path))"
   ]
  },
  {
   "cell_type": "code",
   "execution_count": 34,
   "metadata": {
    "ExecuteTime": {
     "end_time": "2020-12-04T19:48:49.394768Z",
     "start_time": "2020-12-04T19:48:49.386284Z"
    }
   },
   "outputs": [],
   "source": [
    "df_PA = df_patient[df_patient['ViewPosition']=='PA']"
   ]
  },
  {
   "cell_type": "code",
   "execution_count": 35,
   "metadata": {
    "ExecuteTime": {
     "end_time": "2020-12-04T19:48:50.800474Z",
     "start_time": "2020-12-04T19:48:50.795011Z"
    }
   },
   "outputs": [
    {
     "data": {
      "text/plain": [
       "(14511, 22)"
      ]
     },
     "execution_count": 35,
     "metadata": {},
     "output_type": "execute_result"
    }
   ],
   "source": [
    "df_PA.shape"
   ]
  },
  {
   "cell_type": "code",
   "execution_count": 38,
   "metadata": {
    "ExecuteTime": {
     "end_time": "2020-12-04T19:49:10.423333Z",
     "start_time": "2020-12-04T19:49:10.279645Z"
    }
   },
   "outputs": [],
   "source": [
    "# df_PA.to_csv('./data/size1024/df_PA.csv')"
   ]
  }
 ],
 "metadata": {
  "kernelspec": {
   "display_name": "Python 3",
   "language": "python",
   "name": "python3"
  },
  "language_info": {
   "codemirror_mode": {
    "name": "ipython",
    "version": 3
   },
   "file_extension": ".py",
   "mimetype": "text/x-python",
   "name": "python",
   "nbconvert_exporter": "python",
   "pygments_lexer": "ipython3",
   "version": "3.7.4"
  },
  "toc": {
   "base_numbering": 1,
   "nav_menu": {},
   "number_sections": true,
   "sideBar": true,
   "skip_h1_title": false,
   "title_cell": "Table of Contents",
   "title_sidebar": "Contents",
   "toc_cell": false,
   "toc_position": {},
   "toc_section_display": true,
   "toc_window_display": false
  }
 },
 "nbformat": 4,
 "nbformat_minor": 4
}
